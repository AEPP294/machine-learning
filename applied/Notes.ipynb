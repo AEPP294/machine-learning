{
 "cells": [
  {
   "cell_type": "markdown",
   "metadata": {},
   "source": [
    "## Notes"
   ]
  },
  {
   "cell_type": "code",
   "execution_count": 6,
   "metadata": {
    "collapsed": true
   },
   "outputs": [],
   "source": [
    "%matplotlib inline\n",
    "import numpy as np\n",
    "import pandas as pd\n",
    "import matplotlib.pyplot as plt\n",
    "from pathlib import Path\n",
    "import scikitplot\n",
    "import datetime\n",
    "import seaborn as sns\n",
    "import datetime\n",
    "import random\n",
    "import uuid\n",
    "sns.set()\n",
    "\n",
    "import os, sys\n",
    "p = os.path.join(os.path.dirname('__file__'), '..')\n",
    "sys.path.append(p)"
   ]
  },
  {
   "cell_type": "markdown",
   "metadata": {},
   "source": [
    "## Dataset"
   ]
  },
  {
   "cell_type": "code",
   "execution_count": 8,
   "metadata": {},
   "outputs": [
    {
     "data": {
      "text/html": [
       "<div>\n",
       "<style>\n",
       "    .dataframe thead tr:only-child th {\n",
       "        text-align: right;\n",
       "    }\n",
       "\n",
       "    .dataframe thead th {\n",
       "        text-align: left;\n",
       "    }\n",
       "\n",
       "    .dataframe tbody tr th {\n",
       "        vertical-align: top;\n",
       "    }\n",
       "</style>\n",
       "<table border=\"1\" class=\"dataframe\">\n",
       "  <thead>\n",
       "    <tr style=\"text-align: right;\">\n",
       "      <th></th>\n",
       "      <th>amount</th>\n",
       "      <th>country</th>\n",
       "      <th>device</th>\n",
       "      <th>label</th>\n",
       "      <th>name</th>\n",
       "      <th>time</th>\n",
       "      <th>user</th>\n",
       "      <th>id</th>\n",
       "    </tr>\n",
       "    <tr>\n",
       "      <th>id</th>\n",
       "      <th></th>\n",
       "      <th></th>\n",
       "      <th></th>\n",
       "      <th></th>\n",
       "      <th></th>\n",
       "      <th></th>\n",
       "      <th></th>\n",
       "      <th></th>\n",
       "    </tr>\n",
       "  </thead>\n",
       "  <tbody>\n",
       "    <tr>\n",
       "      <th>4908</th>\n",
       "      <td>105.588116</td>\n",
       "      <td>us</td>\n",
       "      <td>A</td>\n",
       "      <td>0</td>\n",
       "      <td>D U</td>\n",
       "      <td>1.524069e+09</td>\n",
       "      <td>706</td>\n",
       "      <td>4908</td>\n",
       "    </tr>\n",
       "    <tr>\n",
       "      <th>6327</th>\n",
       "      <td>103.051363</td>\n",
       "      <td>cn</td>\n",
       "      <td>C</td>\n",
       "      <td>0</td>\n",
       "      <td>H M</td>\n",
       "      <td>1.523752e+09</td>\n",
       "      <td>229</td>\n",
       "      <td>6327</td>\n",
       "    </tr>\n",
       "    <tr>\n",
       "      <th>8452</th>\n",
       "      <td>96.187956</td>\n",
       "      <td>ca</td>\n",
       "      <td>D</td>\n",
       "      <td>0</td>\n",
       "      <td>T R</td>\n",
       "      <td>1.523704e+09</td>\n",
       "      <td>393</td>\n",
       "      <td>8452</td>\n",
       "    </tr>\n",
       "    <tr>\n",
       "      <th>831</th>\n",
       "      <td>95.236296</td>\n",
       "      <td>us</td>\n",
       "      <td>D</td>\n",
       "      <td>0</td>\n",
       "      <td>L L</td>\n",
       "      <td>1.523919e+09</td>\n",
       "      <td>583</td>\n",
       "      <td>831</td>\n",
       "    </tr>\n",
       "    <tr>\n",
       "      <th>7944</th>\n",
       "      <td>94.366095</td>\n",
       "      <td>us</td>\n",
       "      <td>C</td>\n",
       "      <td>0</td>\n",
       "      <td>M S</td>\n",
       "      <td>1.523931e+09</td>\n",
       "      <td>262</td>\n",
       "      <td>7944</td>\n",
       "    </tr>\n",
       "  </tbody>\n",
       "</table>\n",
       "</div>"
      ],
      "text/plain": [
       "          amount country device  label name          time  user    id\n",
       "id                                                                   \n",
       "4908  105.588116      us      A      0  D U  1.524069e+09   706  4908\n",
       "6327  103.051363      cn      C      0  H M  1.523752e+09   229  6327\n",
       "8452   96.187956      ca      D      0  T R  1.523704e+09   393  8452\n",
       "831    95.236296      us      D      0  L L  1.523919e+09   583   831\n",
       "7944   94.366095      us      C      0  M S  1.523931e+09   262  7944"
      ]
     },
     "execution_count": 8,
     "metadata": {},
     "output_type": "execute_result"
    }
   ],
   "source": [
    "def get_data():\n",
    "    df = pd.read_csv('../data/fakedata.csv', index_col='id')\n",
    "    df['id'] = df.index\n",
    "    df = df.rename(columns={'class':'label'})\n",
    "    return df\n",
    "\n",
    "df = get_data()\n",
    "df.head()"
   ]
  },
  {
   "cell_type": "code",
   "execution_count": 9,
   "metadata": {
    "collapsed": true
   },
   "outputs": [],
   "source": [
    "categorical = ['country', 'device']\n",
    "identifiers = ['id', 'user', 'name']\n",
    "numerical = ['amount']\n",
    "target = 'label'"
   ]
  },
  {
   "cell_type": "code",
   "execution_count": 10,
   "metadata": {},
   "outputs": [
    {
     "data": {
      "text/html": [
       "<div>\n",
       "<style>\n",
       "    .dataframe thead tr:only-child th {\n",
       "        text-align: right;\n",
       "    }\n",
       "\n",
       "    .dataframe thead th {\n",
       "        text-align: left;\n",
       "    }\n",
       "\n",
       "    .dataframe tbody tr th {\n",
       "        vertical-align: top;\n",
       "    }\n",
       "</style>\n",
       "<table border=\"1\" class=\"dataframe\">\n",
       "  <thead>\n",
       "    <tr style=\"text-align: right;\">\n",
       "      <th></th>\n",
       "      <th>amount</th>\n",
       "      <th>country</th>\n",
       "      <th>device</th>\n",
       "      <th>label</th>\n",
       "      <th>name</th>\n",
       "      <th>time</th>\n",
       "      <th>user</th>\n",
       "      <th>id</th>\n",
       "    </tr>\n",
       "    <tr>\n",
       "      <th>id</th>\n",
       "      <th></th>\n",
       "      <th></th>\n",
       "      <th></th>\n",
       "      <th></th>\n",
       "      <th></th>\n",
       "      <th></th>\n",
       "      <th></th>\n",
       "      <th></th>\n",
       "    </tr>\n",
       "  </thead>\n",
       "  <tbody>\n",
       "    <tr>\n",
       "      <th>4908</th>\n",
       "      <td>105.588116</td>\n",
       "      <td>us</td>\n",
       "      <td>A</td>\n",
       "      <td>0</td>\n",
       "      <td>D U</td>\n",
       "      <td>1.524069e+09</td>\n",
       "      <td>706</td>\n",
       "      <td>4908</td>\n",
       "    </tr>\n",
       "    <tr>\n",
       "      <th>6327</th>\n",
       "      <td>103.051363</td>\n",
       "      <td>cn</td>\n",
       "      <td>C</td>\n",
       "      <td>0</td>\n",
       "      <td>H M</td>\n",
       "      <td>1.523752e+09</td>\n",
       "      <td>229</td>\n",
       "      <td>6327</td>\n",
       "    </tr>\n",
       "    <tr>\n",
       "      <th>8452</th>\n",
       "      <td>96.187956</td>\n",
       "      <td>ca</td>\n",
       "      <td>D</td>\n",
       "      <td>0</td>\n",
       "      <td>T R</td>\n",
       "      <td>1.523704e+09</td>\n",
       "      <td>393</td>\n",
       "      <td>8452</td>\n",
       "    </tr>\n",
       "    <tr>\n",
       "      <th>831</th>\n",
       "      <td>95.236296</td>\n",
       "      <td>us</td>\n",
       "      <td>D</td>\n",
       "      <td>0</td>\n",
       "      <td>L L</td>\n",
       "      <td>1.523919e+09</td>\n",
       "      <td>583</td>\n",
       "      <td>831</td>\n",
       "    </tr>\n",
       "    <tr>\n",
       "      <th>7944</th>\n",
       "      <td>94.366095</td>\n",
       "      <td>us</td>\n",
       "      <td>C</td>\n",
       "      <td>0</td>\n",
       "      <td>M S</td>\n",
       "      <td>1.523931e+09</td>\n",
       "      <td>262</td>\n",
       "      <td>7944</td>\n",
       "    </tr>\n",
       "  </tbody>\n",
       "</table>\n",
       "</div>"
      ],
      "text/plain": [
       "          amount country device  label name          time  user    id\n",
       "id                                                                   \n",
       "4908  105.588116      us      A      0  D U  1.524069e+09   706  4908\n",
       "6327  103.051363      cn      C      0  H M  1.523752e+09   229  6327\n",
       "8452   96.187956      ca      D      0  T R  1.523704e+09   393  8452\n",
       "831    95.236296      us      D      0  L L  1.523919e+09   583   831\n",
       "7944   94.366095      us      C      0  M S  1.523931e+09   262  7944"
      ]
     },
     "execution_count": 10,
     "metadata": {},
     "output_type": "execute_result"
    }
   ],
   "source": [
    "# Shuffle and sample 50%\n",
    "features = df.sample(frac=.5)\n",
    "df.head()"
   ]
  },
  {
   "cell_type": "markdown",
   "metadata": {},
   "source": [
    "## Summary Stats"
   ]
  },
  {
   "cell_type": "code",
   "execution_count": 12,
   "metadata": {},
   "outputs": [
    {
     "name": "stdout",
     "output_type": "stream",
     "text": [
      "<class 'pandas.core.frame.DataFrame'>\n",
      "Int64Index: 11000 entries, 4908 to 7111\n",
      "Data columns (total 8 columns):\n",
      "amount     11000 non-null float64\n",
      "country    11000 non-null object\n",
      "device     11000 non-null object\n",
      "label      11000 non-null int64\n",
      "name       11000 non-null object\n",
      "time       11000 non-null float64\n",
      "user       11000 non-null int64\n",
      "id         11000 non-null int64\n",
      "dtypes: float64(2), int64(3), object(3)\n",
      "memory usage: 773.4+ KB\n"
     ]
    },
    {
     "data": {
      "text/plain": [
       "0    9990\n",
       "1    1010\n",
       "Name: label, dtype: int64"
      ]
     },
     "execution_count": 12,
     "metadata": {},
     "output_type": "execute_result"
    }
   ],
   "source": [
    "df.info()\n",
    "df.describe()\n",
    "df.nunique()\n",
    "df.isnull().sum() # null count\n",
    "df.label.value_counts()\n",
    "#df.describe(include='O') # Categorical columns"
   ]
  },
  {
   "cell_type": "markdown",
   "metadata": {},
   "source": [
    "## Time\n"
   ]
  },
  {
   "cell_type": "markdown",
   "metadata": {},
   "source": [
    "### Time Features (Hour, Min, Day)"
   ]
  },
  {
   "cell_type": "code",
   "execution_count": 13,
   "metadata": {},
   "outputs": [
    {
     "data": {
      "text/html": [
       "<div>\n",
       "<style>\n",
       "    .dataframe thead tr:only-child th {\n",
       "        text-align: right;\n",
       "    }\n",
       "\n",
       "    .dataframe thead th {\n",
       "        text-align: left;\n",
       "    }\n",
       "\n",
       "    .dataframe tbody tr th {\n",
       "        vertical-align: top;\n",
       "    }\n",
       "</style>\n",
       "<table border=\"1\" class=\"dataframe\">\n",
       "  <thead>\n",
       "    <tr style=\"text-align: right;\">\n",
       "      <th></th>\n",
       "      <th>amount</th>\n",
       "      <th>country</th>\n",
       "      <th>device</th>\n",
       "      <th>label</th>\n",
       "      <th>name</th>\n",
       "      <th>time</th>\n",
       "      <th>user</th>\n",
       "      <th>id</th>\n",
       "      <th>datetime</th>\n",
       "      <th>time_hour</th>\n",
       "      <th>time_day</th>\n",
       "      <th>hour</th>\n",
       "      <th>minute</th>\n",
       "      <th>daywk</th>\n",
       "    </tr>\n",
       "    <tr>\n",
       "      <th>id</th>\n",
       "      <th></th>\n",
       "      <th></th>\n",
       "      <th></th>\n",
       "      <th></th>\n",
       "      <th></th>\n",
       "      <th></th>\n",
       "      <th></th>\n",
       "      <th></th>\n",
       "      <th></th>\n",
       "      <th></th>\n",
       "      <th></th>\n",
       "      <th></th>\n",
       "      <th></th>\n",
       "      <th></th>\n",
       "    </tr>\n",
       "  </thead>\n",
       "  <tbody>\n",
       "    <tr>\n",
       "      <th>4908</th>\n",
       "      <td>105.588116</td>\n",
       "      <td>us</td>\n",
       "      <td>A</td>\n",
       "      <td>0</td>\n",
       "      <td>D U</td>\n",
       "      <td>1.524069e+09</td>\n",
       "      <td>706</td>\n",
       "      <td>4908</td>\n",
       "      <td>2018-04-18 09:33:05.929467</td>\n",
       "      <td>2018-04-18 10:00:00</td>\n",
       "      <td>2018-04-18</td>\n",
       "      <td>9</td>\n",
       "      <td>33</td>\n",
       "      <td>2</td>\n",
       "    </tr>\n",
       "    <tr>\n",
       "      <th>6327</th>\n",
       "      <td>103.051363</td>\n",
       "      <td>cn</td>\n",
       "      <td>C</td>\n",
       "      <td>0</td>\n",
       "      <td>H M</td>\n",
       "      <td>1.523752e+09</td>\n",
       "      <td>229</td>\n",
       "      <td>6327</td>\n",
       "      <td>2018-04-14 17:27:05.929467</td>\n",
       "      <td>2018-04-14 17:00:00</td>\n",
       "      <td>2018-04-15</td>\n",
       "      <td>17</td>\n",
       "      <td>27</td>\n",
       "      <td>5</td>\n",
       "    </tr>\n",
       "    <tr>\n",
       "      <th>8452</th>\n",
       "      <td>96.187956</td>\n",
       "      <td>ca</td>\n",
       "      <td>D</td>\n",
       "      <td>0</td>\n",
       "      <td>T R</td>\n",
       "      <td>1.523704e+09</td>\n",
       "      <td>393</td>\n",
       "      <td>8452</td>\n",
       "      <td>2018-04-14 04:01:05.929467</td>\n",
       "      <td>2018-04-14 04:00:00</td>\n",
       "      <td>2018-04-14</td>\n",
       "      <td>4</td>\n",
       "      <td>1</td>\n",
       "      <td>5</td>\n",
       "    </tr>\n",
       "    <tr>\n",
       "      <th>831</th>\n",
       "      <td>95.236296</td>\n",
       "      <td>us</td>\n",
       "      <td>D</td>\n",
       "      <td>0</td>\n",
       "      <td>L L</td>\n",
       "      <td>1.523919e+09</td>\n",
       "      <td>583</td>\n",
       "      <td>831</td>\n",
       "      <td>2018-04-16 15:45:05.929467</td>\n",
       "      <td>2018-04-16 16:00:00</td>\n",
       "      <td>2018-04-17</td>\n",
       "      <td>15</td>\n",
       "      <td>45</td>\n",
       "      <td>0</td>\n",
       "    </tr>\n",
       "    <tr>\n",
       "      <th>7944</th>\n",
       "      <td>94.366095</td>\n",
       "      <td>us</td>\n",
       "      <td>C</td>\n",
       "      <td>0</td>\n",
       "      <td>M S</td>\n",
       "      <td>1.523931e+09</td>\n",
       "      <td>262</td>\n",
       "      <td>7944</td>\n",
       "      <td>2018-04-16 19:05:05.929467</td>\n",
       "      <td>2018-04-16 19:00:00</td>\n",
       "      <td>2018-04-17</td>\n",
       "      <td>19</td>\n",
       "      <td>5</td>\n",
       "      <td>0</td>\n",
       "    </tr>\n",
       "  </tbody>\n",
       "</table>\n",
       "</div>"
      ],
      "text/plain": [
       "          amount country device  label name          time  user    id  \\\n",
       "id                                                                      \n",
       "4908  105.588116      us      A      0  D U  1.524069e+09   706  4908   \n",
       "6327  103.051363      cn      C      0  H M  1.523752e+09   229  6327   \n",
       "8452   96.187956      ca      D      0  T R  1.523704e+09   393  8452   \n",
       "831    95.236296      us      D      0  L L  1.523919e+09   583   831   \n",
       "7944   94.366095      us      C      0  M S  1.523931e+09   262  7944   \n",
       "\n",
       "                       datetime           time_hour   time_day  hour  minute  \\\n",
       "id                                                                             \n",
       "4908 2018-04-18 09:33:05.929467 2018-04-18 10:00:00 2018-04-18     9      33   \n",
       "6327 2018-04-14 17:27:05.929467 2018-04-14 17:00:00 2018-04-15    17      27   \n",
       "8452 2018-04-14 04:01:05.929467 2018-04-14 04:00:00 2018-04-14     4       1   \n",
       "831  2018-04-16 15:45:05.929467 2018-04-16 16:00:00 2018-04-17    15      45   \n",
       "7944 2018-04-16 19:05:05.929467 2018-04-16 19:00:00 2018-04-17    19       5   \n",
       "\n",
       "      daywk  \n",
       "id           \n",
       "4908      2  \n",
       "6327      5  \n",
       "8452      5  \n",
       "831       0  \n",
       "7944      0  "
      ]
     },
     "execution_count": 13,
     "metadata": {},
     "output_type": "execute_result"
    }
   ],
   "source": [
    "df['datetime'] = df.time.apply(datetime.datetime.fromtimestamp)\n",
    "df['time_hour'] = df.datetime.dt.round('H')\n",
    "df['time_day'] = df.datetime.dt.round('D')\n",
    "df['hour'] = df.datetime.dt.hour\n",
    "df['minute'] = df.datetime.dt.minute\n",
    "df['daywk'] = df.datetime.dt.dayofweek\n",
    "df.head()"
   ]
  },
  {
   "cell_type": "markdown",
   "metadata": {},
   "source": [
    "## Plotting"
   ]
  },
  {
   "cell_type": "markdown",
   "metadata": {},
   "source": [
    "### Time Series"
   ]
  },
  {
   "cell_type": "code",
   "execution_count": 14,
   "metadata": {},
   "outputs": [
    {
     "data": {
      "image/png": "[encoded data removed]",
      "text/plain": [
       "<matplotlib.figure.Figure at 0x108e54c88>"
      ]
     },
     "metadata": {},
     "output_type": "display_data"
    }
   ],
   "source": [
    "grouped = df.groupby('time_day')\n",
    "rates = grouped[target].sum() / grouped[target].count()\n",
    "rates.plot(kind='line');"
   ]
  },
  {
   "cell_type": "markdown",
   "metadata": {},
   "source": [
    "### Categorical (Bar)"
   ]
  },
  {
   "cell_type": "code",
   "execution_count": 15,
   "metadata": {},
   "outputs": [
    {
     "name": "stdout",
     "output_type": "stream",
     "text": [
      "country\n",
      "ca    0.087868\n",
      "cn    0.277433\n",
      "mx    0.123707\n",
      "us    0.026740\n",
      "Name: label, dtype: float64\n"
     ]
    },
    {
     "data": {
      "image/png": "[encoded data removed]",
      "text/plain": [
       "<matplotlib.figure.Figure at 0x1a1117af60>"
      ]
     },
     "metadata": {},
     "output_type": "display_data"
    },
    {
     "name": "stdout",
     "output_type": "stream",
     "text": [
      "device\n",
      "A    0.055450\n",
      "B    0.053005\n",
      "C    0.098572\n",
      "D    0.091959\n",
      "E    0.152866\n",
      "Name: label, dtype: float64\n"
     ]
    },
    {
     "data": {
      "image/png": "[encoded data removed]",
      "text/plain": [
       "<matplotlib.figure.Figure at 0x1a197a34a8>"
      ]
     },
     "metadata": {},
     "output_type": "display_data"
    }
   ],
   "source": [
    "for c in categorical:\n",
    "    grouped = df.groupby(c)\n",
    "    rates = grouped[target].sum() / grouped[target].count()\n",
    "    print(rates)\n",
    "    rates.plot(kind='bar')\n",
    "    plt.show()"
   ]
  },
  {
   "cell_type": "markdown",
   "metadata": {},
   "source": [
    "### Categorical (Count)"
   ]
  },
  {
   "cell_type": "code",
   "execution_count": 16,
   "metadata": {},
   "outputs": [
    {
     "name": "stdout",
     "output_type": "stream",
     "text": [
      "us    5086\n",
      "ca    2242\n",
      "mx    2223\n",
      "cn    1449\n",
      "Name: country, dtype: int64\n"
     ]
    },
    {
     "data": {
      "image/png": "[encoded data removed]",
      "text/plain": [
       "<matplotlib.figure.Figure at 0x1a108e5e80>"
      ]
     },
     "metadata": {},
     "output_type": "display_data"
    },
    {
     "name": "stdout",
     "output_type": "stream",
     "text": [
      "E    2355\n",
      "D    2251\n",
      "C    2171\n",
      "B    2113\n",
      "A    2110\n",
      "Name: device, dtype: int64\n"
     ]
    },
    {
     "data": {
      "image/png": "[encoded data removed]",
      "text/plain": [
       "<matplotlib.figure.Figure at 0x1a197b5518>"
      ]
     },
     "metadata": {},
     "output_type": "display_data"
    }
   ],
   "source": [
    "for c in categorical:\n",
    "    print(df[c].value_counts())\n",
    "    sns.countplot(data=df, x=c, hue=target)\n",
    "    plt.title(c)\n",
    "    plt.show()"
   ]
  },
  {
   "cell_type": "markdown",
   "metadata": {},
   "source": [
    "### Histograms (Overlap)"
   ]
  },
  {
   "cell_type": "code",
   "execution_count": 17,
   "metadata": {},
   "outputs": [
    {
     "data": {
      "image/png": "[encoded data removed]",
      "text/plain": [
       "<matplotlib.figure.Figure at 0x1a197a0eb8>"
      ]
     },
     "metadata": {},
     "output_type": "display_data"
    }
   ],
   "source": [
    "q = df.amount.quantile(q=.3)  # First grab quartiles\n",
    "for c in numerical:\n",
    "    sns.distplot(df[(df[target] == 0) & (df.amount < q)][c], bins=20, label='0')\n",
    "    sns.distplot(df[(df[target] == 1) & (df.amount < q)][c], bins=20, label='1')\n",
    "    plt.legend()\n",
    "    plt.title(c)"
   ]
  },
  {
   "cell_type": "code",
   "execution_count": 18,
   "metadata": {},
   "outputs": [
    {
     "data": {
      "image/png": "[encoded data removed]",
      "text/plain": [
       "<matplotlib.figure.Figure at 0x1a111dd908>"
      ]
     },
     "metadata": {},
     "output_type": "display_data"
    }
   ],
   "source": [
    "fig = plt.figure()\n",
    "ax = fig.subplots(nrows=1, ncols=1)\n",
    "df[df.label == 0].hist(column='amount', bins=20, ax=ax, label='0', alpha=.5)\n",
    "df[df.label == 1].hist(column='amount', bins=20, ax=ax, label='1', alpha=.6)\n",
    "plt.legend();"
   ]
  },
  {
   "cell_type": "markdown",
   "metadata": {},
   "source": [
    "### Histograms (Side-by-side)"
   ]
  },
  {
   "cell_type": "code",
   "execution_count": 19,
   "metadata": {},
   "outputs": [
    {
     "data": {
      "image/png": "[encoded data removed]",
      "text/plain": [
       "<matplotlib.figure.Figure at 0x1a19955470>"
      ]
     },
     "metadata": {},
     "output_type": "display_data"
    }
   ],
   "source": [
    "g = sns.FacetGrid(df, col='label')\n",
    "g.map(plt.hist, 'amount', bins=20, alpha=.8);"
   ]
  },
  {
   "cell_type": "code",
   "execution_count": 20,
   "metadata": {},
   "outputs": [
    {
     "data": {
      "image/png": "[encoded data removed]",
      "text/plain": [
       "<matplotlib.figure.Figure at 0x1a1a160b70>"
      ]
     },
     "metadata": {},
     "output_type": "display_data"
    }
   ],
   "source": [
    "# Facetgrid with value combos + categories\n",
    "grid = sns.FacetGrid(df, col='label', row='country')\n",
    "grid.map(plt.hist, 'amount', bins=20, alpha=.8)\n",
    "grid.add_legend();"
   ]
  },
  {
   "cell_type": "markdown",
   "metadata": {},
   "source": [
    "## Covariance"
   ]
  },
  {
   "cell_type": "markdown",
   "metadata": {},
   "source": [
    "### Correlation Matrix and Heatmap"
   ]
  },
  {
   "cell_type": "code",
   "execution_count": 21,
   "metadata": {},
   "outputs": [
    {
     "data": {
      "image/png": "[encoded data removed]",
      "text/plain": [
       "<matplotlib.figure.Figure at 0x1a10b5e128>"
      ]
     },
     "metadata": {},
     "output_type": "display_data"
    }
   ],
   "source": [
    "# Numerical and Time only\n",
    "corr = df.corr()\n",
    "fig = plt.figure(figsize=(14,14))\n",
    "sns.heatmap(corr, annot=True);"
   ]
  },
  {
   "cell_type": "markdown",
   "metadata": {},
   "source": [
    "### Most Correlated Features"
   ]
  },
  {
   "cell_type": "code",
   "execution_count": 23,
   "metadata": {},
   "outputs": [
    {
     "data": {
      "text/plain": [
       "amount   -0.607158\n",
       "user     -0.416361\n",
       "id       -0.380369\n",
       "minute   -0.009501\n",
       "hour     -0.001255\n",
       "Name: label, dtype: float64"
      ]
     },
     "execution_count": 23,
     "metadata": {},
     "output_type": "execute_result"
    }
   ],
   "source": [
    "corr.nlargest(n=5, columns=target)[target]\n",
    "corr.nsmallest(n=5, columns=target)[target]"
   ]
  },
  {
   "cell_type": "markdown",
   "metadata": {},
   "source": [
    "## Selecting Rows"
   ]
  },
  {
   "cell_type": "markdown",
   "metadata": {},
   "source": [
    "### By Value"
   ]
  },
  {
   "cell_type": "code",
   "execution_count": 25,
   "metadata": {},
   "outputs": [
    {
     "data": {
      "text/html": [
       "<div>\n",
       "<style>\n",
       "    .dataframe thead tr:only-child th {\n",
       "        text-align: right;\n",
       "    }\n",
       "\n",
       "    .dataframe thead th {\n",
       "        text-align: left;\n",
       "    }\n",
       "\n",
       "    .dataframe tbody tr th {\n",
       "        vertical-align: top;\n",
       "    }\n",
       "</style>\n",
       "<table border=\"1\" class=\"dataframe\">\n",
       "  <thead>\n",
       "    <tr style=\"text-align: right;\">\n",
       "      <th></th>\n",
       "      <th>amount</th>\n",
       "      <th>country</th>\n",
       "      <th>device</th>\n",
       "      <th>name</th>\n",
       "      <th>time</th>\n",
       "      <th>user</th>\n",
       "      <th>id</th>\n",
       "      <th>datetime</th>\n",
       "      <th>time_hour</th>\n",
       "      <th>time_day</th>\n",
       "      <th>hour</th>\n",
       "      <th>minute</th>\n",
       "      <th>daywk</th>\n",
       "    </tr>\n",
       "    <tr>\n",
       "      <th>id</th>\n",
       "      <th></th>\n",
       "      <th></th>\n",
       "      <th></th>\n",
       "      <th></th>\n",
       "      <th></th>\n",
       "      <th></th>\n",
       "      <th></th>\n",
       "      <th></th>\n",
       "      <th></th>\n",
       "      <th></th>\n",
       "      <th></th>\n",
       "      <th></th>\n",
       "      <th></th>\n",
       "    </tr>\n",
       "  </thead>\n",
       "  <tbody>\n",
       "    <tr>\n",
       "      <th>903</th>\n",
       "      <td>68.981402</td>\n",
       "      <td>cn</td>\n",
       "      <td>D</td>\n",
       "      <td>T U</td>\n",
       "      <td>1.524356e+09</td>\n",
       "      <td>5</td>\n",
       "      <td>903</td>\n",
       "      <td>2018-04-21 17:11:07.267056</td>\n",
       "      <td>2018-04-21 17:00:00</td>\n",
       "      <td>2018-04-22</td>\n",
       "      <td>17</td>\n",
       "      <td>11</td>\n",
       "      <td>5</td>\n",
       "    </tr>\n",
       "    <tr>\n",
       "      <th>104</th>\n",
       "      <td>73.263597</td>\n",
       "      <td>mx</td>\n",
       "      <td>E</td>\n",
       "      <td>I P</td>\n",
       "      <td>1.524251e+09</td>\n",
       "      <td>0</td>\n",
       "      <td>104</td>\n",
       "      <td>2018-04-20 11:56:07.267056</td>\n",
       "      <td>2018-04-20 12:00:00</td>\n",
       "      <td>2018-04-20</td>\n",
       "      <td>11</td>\n",
       "      <td>56</td>\n",
       "      <td>4</td>\n",
       "    </tr>\n",
       "    <tr>\n",
       "      <th>127</th>\n",
       "      <td>62.945182</td>\n",
       "      <td>mx</td>\n",
       "      <td>D</td>\n",
       "      <td>N Y</td>\n",
       "      <td>1.524126e+09</td>\n",
       "      <td>8</td>\n",
       "      <td>127</td>\n",
       "      <td>2018-04-19 01:25:07.267056</td>\n",
       "      <td>2018-04-19 01:00:00</td>\n",
       "      <td>2018-04-19</td>\n",
       "      <td>1</td>\n",
       "      <td>25</td>\n",
       "      <td>3</td>\n",
       "    </tr>\n",
       "    <tr>\n",
       "      <th>269</th>\n",
       "      <td>69.899543</td>\n",
       "      <td>cn</td>\n",
       "      <td>B</td>\n",
       "      <td>O S</td>\n",
       "      <td>1.523951e+09</td>\n",
       "      <td>0</td>\n",
       "      <td>269</td>\n",
       "      <td>2018-04-17 00:49:07.267056</td>\n",
       "      <td>2018-04-17 01:00:00</td>\n",
       "      <td>2018-04-17</td>\n",
       "      <td>0</td>\n",
       "      <td>49</td>\n",
       "      <td>1</td>\n",
       "    </tr>\n",
       "    <tr>\n",
       "      <th>153</th>\n",
       "      <td>67.364587</td>\n",
       "      <td>cn</td>\n",
       "      <td>E</td>\n",
       "      <td>D L</td>\n",
       "      <td>1.523913e+09</td>\n",
       "      <td>1</td>\n",
       "      <td>153</td>\n",
       "      <td>2018-04-16 14:03:07.267056</td>\n",
       "      <td>2018-04-16 14:00:00</td>\n",
       "      <td>2018-04-17</td>\n",
       "      <td>14</td>\n",
       "      <td>3</td>\n",
       "      <td>0</td>\n",
       "    </tr>\n",
       "  </tbody>\n",
       "</table>\n",
       "</div>"
      ],
      "text/plain": [
       "        amount country device name          time  user   id  \\\n",
       "id                                                            \n",
       "903  68.981402      cn      D  T U  1.524356e+09     5  903   \n",
       "104  73.263597      mx      E  I P  1.524251e+09     0  104   \n",
       "127  62.945182      mx      D  N Y  1.524126e+09     8  127   \n",
       "269  69.899543      cn      B  O S  1.523951e+09     0  269   \n",
       "153  67.364587      cn      E  D L  1.523913e+09     1  153   \n",
       "\n",
       "                      datetime           time_hour   time_day  hour  minute  \\\n",
       "id                                                                            \n",
       "903 2018-04-21 17:11:07.267056 2018-04-21 17:00:00 2018-04-22    17      11   \n",
       "104 2018-04-20 11:56:07.267056 2018-04-20 12:00:00 2018-04-20    11      56   \n",
       "127 2018-04-19 01:25:07.267056 2018-04-19 01:00:00 2018-04-19     1      25   \n",
       "269 2018-04-17 00:49:07.267056 2018-04-17 01:00:00 2018-04-17     0      49   \n",
       "153 2018-04-16 14:03:07.267056 2018-04-16 14:00:00 2018-04-17    14       3   \n",
       "\n",
       "     daywk  \n",
       "id          \n",
       "903      5  \n",
       "104      4  \n",
       "127      3  \n",
       "269      1  \n",
       "153      0  "
      ]
     },
     "execution_count": 25,
     "metadata": {},
     "output_type": "execute_result"
    }
   ],
   "source": [
    "df.loc[(df.label == 1) & (df.amount > 10), df.columns != target].head()"
   ]
  },
  {
   "cell_type": "markdown",
   "metadata": {},
   "source": [
    "### By Index"
   ]
  },
  {
   "cell_type": "code",
   "execution_count": 26,
   "metadata": {},
   "outputs": [
    {
     "data": {
      "text/html": [
       "<div>\n",
       "<style>\n",
       "    .dataframe thead tr:only-child th {\n",
       "        text-align: right;\n",
       "    }\n",
       "\n",
       "    .dataframe thead th {\n",
       "        text-align: left;\n",
       "    }\n",
       "\n",
       "    .dataframe tbody tr th {\n",
       "        vertical-align: top;\n",
       "    }\n",
       "</style>\n",
       "<table border=\"1\" class=\"dataframe\">\n",
       "  <thead>\n",
       "    <tr style=\"text-align: right;\">\n",
       "      <th></th>\n",
       "      <th>country</th>\n",
       "      <th>device</th>\n",
       "    </tr>\n",
       "    <tr>\n",
       "      <th>id</th>\n",
       "      <th></th>\n",
       "      <th></th>\n",
       "    </tr>\n",
       "  </thead>\n",
       "  <tbody>\n",
       "    <tr>\n",
       "      <th>9031</th>\n",
       "      <td>us</td>\n",
       "      <td>E</td>\n",
       "    </tr>\n",
       "    <tr>\n",
       "      <th>269</th>\n",
       "      <td>cn</td>\n",
       "      <td>B</td>\n",
       "    </tr>\n",
       "    <tr>\n",
       "      <th>819</th>\n",
       "      <td>mx</td>\n",
       "      <td>E</td>\n",
       "    </tr>\n",
       "    <tr>\n",
       "      <th>1374</th>\n",
       "      <td>us</td>\n",
       "      <td>B</td>\n",
       "    </tr>\n",
       "    <tr>\n",
       "      <th>4247</th>\n",
       "      <td>us</td>\n",
       "      <td>E</td>\n",
       "    </tr>\n",
       "  </tbody>\n",
       "</table>\n",
       "</div>"
      ],
      "text/plain": [
       "     country device\n",
       "id                 \n",
       "9031      us      E\n",
       "269       cn      B\n",
       "819       mx      E\n",
       "1374      us      B\n",
       "4247      us      E"
      ]
     },
     "execution_count": 26,
     "metadata": {},
     "output_type": "execute_result"
    }
   ],
   "source": [
    "df.iloc[30:40, 1:3].head()"
   ]
  },
  {
   "cell_type": "markdown",
   "metadata": {},
   "source": [
    "### Loop"
   ]
  },
  {
   "cell_type": "code",
   "execution_count": 27,
   "metadata": {},
   "outputs": [
    {
     "name": "stdout",
     "output_type": "stream",
     "text": [
      "4908\n"
     ]
    }
   ],
   "source": [
    "for idx, row in df.iterrows():\n",
    "    print(idx)\n",
    "    break"
   ]
  },
  {
   "cell_type": "markdown",
   "metadata": {
    "heading_collapsed": true
   },
   "source": [
    "## Aggregation"
   ]
  },
  {
   "cell_type": "markdown",
   "metadata": {
    "hidden": true
   },
   "source": [
    "### Basic"
   ]
  },
  {
   "cell_type": "code",
   "execution_count": null,
   "metadata": {
    "collapsed": true,
    "hidden": true
   },
   "outputs": [],
   "source": [
    "# Multiple statistics\n",
    "df[['amount', 'daywk']].describe().T"
   ]
  },
  {
   "cell_type": "code",
   "execution_count": null,
   "metadata": {
    "collapsed": true,
    "hidden": true
   },
   "outputs": [],
   "source": [
    "# Count occurances\n",
    "df['country'].value_counts()"
   ]
  },
  {
   "cell_type": "code",
   "execution_count": null,
   "metadata": {
    "collapsed": true,
    "hidden": true
   },
   "outputs": [],
   "source": [
    "# Mode\n",
    "df[['device', 'country']].mode().T"
   ]
  },
  {
   "cell_type": "markdown",
   "metadata": {
    "hidden": true
   },
   "source": [
    "### Custom Aggregations"
   ]
  },
  {
   "cell_type": "code",
   "execution_count": null,
   "metadata": {
    "collapsed": true,
    "hidden": true
   },
   "outputs": [],
   "source": [
    "aggregations = {\n",
    "    'class': {\n",
    "        'pos': 'sum',\n",
    "        'total': 'count',\n",
    "        'rate': lambda x: x.sum() / x.count()\n",
    "    },\n",
    "    'amount': {\n",
    "        'avg_amt': 'mean',\n",
    "        'med_amt': 'median',\n",
    "        'std_amt': 'std',\n",
    "        'mode_smt': lambda x: x.value_counts().index[0]\n",
    "    },\n",
    "    'country': {\n",
    "        'primary_country': lambda x: x.value_counts().index[0],\n",
    "        'n_countries': lambda x: x.nunique()\n",
    "    },\n",
    "    'device': {\n",
    "        'primary_device': lambda x: x.value_counts().index[0],\n",
    "        'n_devices': lambda x: x.nunique()\n",
    "    },\n",
    "    'datetime': {\n",
    "        'account_created': 'min',\n",
    "        'account_age': lambda x: (datetime.datetime.utcnow() - min(x)).days\n",
    "    }\n",
    "}"
   ]
  },
  {
   "cell_type": "code",
   "execution_count": null,
   "metadata": {
    "collapsed": true,
    "hidden": true
   },
   "outputs": [],
   "source": [
    "users = df.groupby('user', as_index=False).agg(aggregations)\n",
    "users.columns = users.columns.droplevel()\n",
    "users = users.rename(columns={'':'user'})\n",
    "users.head()"
   ]
  },
  {
   "cell_type": "markdown",
   "metadata": {
    "hidden": true
   },
   "source": [
    "### Assign columns with custom function"
   ]
  },
  {
   "cell_type": "code",
   "execution_count": null,
   "metadata": {
    "collapsed": true,
    "hidden": true
   },
   "outputs": [],
   "source": [
    "gb = df.groupby('user').min()['datetime']\n",
    "def getvalue(x):\n",
    "    return gb[x]\n",
    "\n",
    "df['created'] = df['user'].map(getvalue)\n",
    "df.head()"
   ]
  },
  {
   "cell_type": "markdown",
   "metadata": {
    "hidden": true
   },
   "source": [
    "### Assign Column with Transform"
   ]
  },
  {
   "cell_type": "code",
   "execution_count": null,
   "metadata": {
    "collapsed": true,
    "hidden": true
   },
   "outputs": [],
   "source": [
    "df['created'] = df.groupby('user')['datetime'].transform(np.min)\n",
    "df.head()"
   ]
  },
  {
   "cell_type": "markdown",
   "metadata": {
    "heading_collapsed": true
   },
   "source": [
    "## Group by"
   ]
  },
  {
   "cell_type": "markdown",
   "metadata": {
    "heading_collapsed": true,
    "hidden": true
   },
   "source": [
    "### Single column"
   ]
  },
  {
   "cell_type": "code",
   "execution_count": null,
   "metadata": {
    "hidden": true
   },
   "outputs": [],
   "source": [
    "# What's the positive rate by country?\n",
    "df[['country', 'class']].groupby(\n",
    "    ['country'], as_index=False).mean().sort_values(\n",
    "    by='class', ascending=False)"
   ]
  },
  {
   "cell_type": "markdown",
   "metadata": {
    "heading_collapsed": true,
    "hidden": true
   },
   "source": [
    "### Multiple Columns"
   ]
  },
  {
   "cell_type": "code",
   "execution_count": null,
   "metadata": {
    "hidden": true
   },
   "outputs": [],
   "source": [
    "df.groupby(['country', 'label']).median()"
   ]
  },
  {
   "cell_type": "markdown",
   "metadata": {
    "heading_collapsed": true,
    "hidden": true
   },
   "source": [
    "### Loop through groups"
   ]
  },
  {
   "cell_type": "code",
   "execution_count": null,
   "metadata": {
    "collapsed": true,
    "hidden": true
   },
   "outputs": [],
   "source": [
    "group = df[:15].groupby('daywk')\n",
    "for name, data in group:\n",
    "    print(data[categorical])\n",
    "    print('name', name, \"primary_ctry\", data.country.mode())"
   ]
  },
  {
   "cell_type": "markdown",
   "metadata": {
    "heading_collapsed": true,
    "hidden": true
   },
   "source": [
    "### Get Min/Max/Sum for Group"
   ]
  },
  {
   "cell_type": "code",
   "execution_count": null,
   "metadata": {
    "collapsed": true,
    "hidden": true
   },
   "outputs": [],
   "source": [
    "# Multiple columns\n",
    "group = df.groupby('daywk')\n",
    "group.aggregate(np.min).T"
   ]
  },
  {
   "cell_type": "code",
   "execution_count": null,
   "metadata": {
    "collapsed": true,
    "hidden": true
   },
   "outputs": [],
   "source": [
    "# Single Column\n",
    "group.created.describe()"
   ]
  },
  {
   "cell_type": "markdown",
   "metadata": {},
   "source": [
    "## DataFrame Restructuring"
   ]
  },
  {
   "cell_type": "markdown",
   "metadata": {},
   "source": [
    "### Rename Columns"
   ]
  },
  {
   "cell_type": "code",
   "execution_count": null,
   "metadata": {
    "collapsed": true
   },
   "outputs": [],
   "source": [
    "df.rename(columns={'class': 'class1'}, inplace=True)\n",
    "df.rename(columns={'class1': 'class'}, inplace=True)"
   ]
  },
  {
   "cell_type": "markdown",
   "metadata": {},
   "source": [
    "### Drop Columns"
   ]
  },
  {
   "cell_type": "code",
   "execution_count": null,
   "metadata": {
    "collapsed": true
   },
   "outputs": [],
   "source": [
    "df.drop(labels=['time'], axis=1, inplace=True)\n",
    "df.head()"
   ]
  },
  {
   "cell_type": "markdown",
   "metadata": {},
   "source": [
    "### Merge/Join/Concat"
   ]
  },
  {
   "cell_type": "code",
   "execution_count": null,
   "metadata": {
    "collapsed": true
   },
   "outputs": [],
   "source": [
    "# Join is a subet of merge"
   ]
  },
  {
   "cell_type": "code",
   "execution_count": null,
   "metadata": {
    "collapsed": true
   },
   "outputs": [],
   "source": [
    "# Concat = append"
   ]
  },
  {
   "cell_type": "markdown",
   "metadata": {},
   "source": [
    "## Null Handling"
   ]
  },
  {
   "cell_type": "markdown",
   "metadata": {},
   "source": [
    "### Drop Null"
   ]
  },
  {
   "cell_type": "code",
   "execution_count": null,
   "metadata": {
    "collapsed": true
   },
   "outputs": [],
   "source": [
    "# Specific column\n",
    "df = get_data()\n",
    "df = df.dropna(how='any', subset=['country'])"
   ]
  },
  {
   "cell_type": "code",
   "execution_count": null,
   "metadata": {
    "collapsed": true
   },
   "outputs": [],
   "source": [
    "# Any column\n",
    "df = df.dropna(how='any')"
   ]
  },
  {
   "cell_type": "markdown",
   "metadata": {},
   "source": [
    "### Default Values"
   ]
  },
  {
   "cell_type": "code",
   "execution_count": null,
   "metadata": {
    "collapsed": true
   },
   "outputs": [],
   "source": [
    "# Constant\n",
    "df['label'].fillna(value=-1, inplace=True)\n",
    "\n",
    "# Median\n",
    "df['label'].fillna(value=df['label'].median(), inplace=True)\n",
    "\n",
    "# Multiple\n",
    "df = df.fillna({\n",
    "    \"label\": -1,\n",
    "    \"country\": \"unkown\",\n",
    "})"
   ]
  },
  {
   "cell_type": "markdown",
   "metadata": {},
   "source": [
    "### Conditional Values"
   ]
  },
  {
   "cell_type": "code",
   "execution_count": null,
   "metadata": {
    "collapsed": true
   },
   "outputs": [],
   "source": [
    "df['amount'] = np.where((df['amount'] > 2000) & (df['amount'] < 10), 1000, df['amount'])"
   ]
  },
  {
   "cell_type": "markdown",
   "metadata": {},
   "source": [
    "### Bfill / Ffill"
   ]
  },
  {
   "cell_type": "code",
   "execution_count": null,
   "metadata": {
    "collapsed": true
   },
   "outputs": [],
   "source": [
    "df['label'].fillna(method='bfill', inplace=True)\n",
    "df['label'].fillna(method='ffill', inplace=True)"
   ]
  },
  {
   "cell_type": "markdown",
   "metadata": {},
   "source": [
    "## Encoding"
   ]
  },
  {
   "cell_type": "markdown",
   "metadata": {},
   "source": [
    "### One-Hot Encoding"
   ]
  },
  {
   "cell_type": "code",
   "execution_count": null,
   "metadata": {},
   "outputs": [],
   "source": [
    "# Used when order doesn't matter\n",
    "df = get_data()\n",
    "df = pd.get_dummies(df, columns=['country'], prefix=['ctr'])\n",
    "df.head()"
   ]
  },
  {
   "cell_type": "markdown",
   "metadata": {},
   "source": [
    "### Ordinal Encoding"
   ]
  },
  {
   "cell_type": "code",
   "execution_count": null,
   "metadata": {},
   "outputs": [],
   "source": [
    "# Used when order matters (ordinal)\n",
    "df['country'] = df['country'].astype('category')\n",
    "df['country'] = df['country'].cat.codes\n",
    "df.head()"
   ]
  },
  {
   "cell_type": "markdown",
   "metadata": {},
   "source": [
    "### Binning"
   ]
  },
  {
   "cell_type": "code",
   "execution_count": null,
   "metadata": {},
   "outputs": [],
   "source": [
    "# Used to group continuous values into intervals\n",
    "df = get_data()\n",
    "df['amount_band'] = pd.cut(df['amount'], 5, labels=[0,1,2,3,4])\n",
    "df.head()"
   ]
  },
  {
   "cell_type": "markdown",
   "metadata": {},
   "source": [
    "## Normalization"
   ]
  },
  {
   "cell_type": "markdown",
   "metadata": {},
   "source": [
    "### Calculate subgroup statistics"
   ]
  },
  {
   "cell_type": "code",
   "execution_count": null,
   "metadata": {
    "collapsed": true
   },
   "outputs": [],
   "source": [
    "# Standardization by subgroup statistics\n",
    "group = df.groupby('daywk')\n",
    "zscore = lambda x: (x - x.mean()) / x.std()\n",
    "group.transform(zscore).head()"
   ]
  },
  {
   "cell_type": "markdown",
   "metadata": {},
   "source": [
    "### Standardization"
   ]
  },
  {
   "cell_type": "code",
   "execution_count": null,
   "metadata": {
    "collapsed": true
   },
   "outputs": [],
   "source": [
    "# Subtract mean and divide by standard deviation\n",
    "from sklearn.preprocessing import StandardScaler\n",
    "\n",
    "scaler = StandardScaler()\n",
    "scaler.fit(X)\n",
    "X = scaler.transform(X)"
   ]
  },
  {
   "cell_type": "markdown",
   "metadata": {},
   "source": [
    "### Normalization (Min/Max)"
   ]
  },
  {
   "cell_type": "code",
   "execution_count": null,
   "metadata": {
    "collapsed": true
   },
   "outputs": [],
   "source": [
    "from sklearn.preprocessing import MinMaxScaler\n",
    "\n",
    "scaler = MinMaxScaler()\n",
    "scaler.fit(X)\n",
    "X = scaler.transform(X)"
   ]
  },
  {
   "cell_type": "markdown",
   "metadata": {},
   "source": [
    "### Binarization"
   ]
  },
  {
   "cell_type": "code",
   "execution_count": null,
   "metadata": {
    "collapsed": true
   },
   "outputs": [],
   "source": [
    "# Binarization (continuous --> 0/1)\n",
    "from sklearn.preprocessing import Binarizer\n",
    "binarizer = Binarizer(threshold=0.0).fit(X)\n",
    "X = binarizer.transform(X)"
   ]
  },
  {
   "cell_type": "markdown",
   "metadata": {},
   "source": [
    "## Feature Engineering"
   ]
  },
  {
   "cell_type": "markdown",
   "metadata": {},
   "source": [
    "### Conditional"
   ]
  },
  {
   "cell_type": "code",
   "execution_count": null,
   "metadata": {},
   "outputs": [],
   "source": [
    "df = get_data()\n",
    "\n",
    "# np.where\n",
    "df['new'] = np.where(df['amount'] > 10, 1, 0)\n",
    "\n",
    "# df.loc\n",
    "df.loc[ df['amount'] > 10, 'amount'] = 1\n",
    "\n",
    "df.head()"
   ]
  },
  {
   "cell_type": "markdown",
   "metadata": {},
   "source": [
    "### Map"
   ]
  },
  {
   "cell_type": "code",
   "execution_count": null,
   "metadata": {},
   "outputs": [],
   "source": [
    "df['yo'] = df[target].map({\n",
    "    0:'false', \n",
    "    1:'true'\n",
    "})\n",
    "df.head()"
   ]
  },
  {
   "cell_type": "markdown",
   "metadata": {},
   "source": [
    "### Membership"
   ]
  },
  {
   "cell_type": "code",
   "execution_count": null,
   "metadata": {
    "collapsed": true
   },
   "outputs": [],
   "source": [
    "popular = ['cn', 'us']\n",
    "df['popular_country'] = df.country.isin(popular).astype(int)"
   ]
  },
  {
   "cell_type": "markdown",
   "metadata": {},
   "source": [
    "## Train/Test Split"
   ]
  },
  {
   "cell_type": "code",
   "execution_count": null,
   "metadata": {
    "collapsed": true
   },
   "outputs": [],
   "source": []
  },
  {
   "cell_type": "markdown",
   "metadata": {},
   "source": [
    "### Convert to Numpy"
   ]
  },
  {
   "cell_type": "code",
   "execution_count": null,
   "metadata": {
    "collapsed": true
   },
   "outputs": [],
   "source": [
    "def get_Xy(df):\n",
    "    X = df.loc[:, df.columns != 'label'].as_matrix()\n",
    "    y = df['label'].values\n",
    "    return X, y"
   ]
  },
  {
   "cell_type": "markdown",
   "metadata": {},
   "source": [
    "### Train/Test Split"
   ]
  },
  {
   "cell_type": "code",
   "execution_count": null,
   "metadata": {
    "collapsed": true
   },
   "outputs": [],
   "source": [
    "from sklearn.model_selection import train_test_split\n",
    "\n",
    "X_train, X_test, y_train, y_test = train_test_split(\n",
    "    X, y, test_size=0.20, random_state=42, shuffle=True # optional shuffle\n",
    ")"
   ]
  },
  {
   "cell_type": "markdown",
   "metadata": {},
   "source": [
    "### KFold Split"
   ]
  },
  {
   "cell_type": "code",
   "execution_count": null,
   "metadata": {
    "collapsed": true
   },
   "outputs": [],
   "source": [
    "from sklearn.model_selection import StratifiedKFold\n",
    "fold = StratifiedKFold(n_splits=5, shuffle=False, random_state=42)"
   ]
  },
  {
   "cell_type": "markdown",
   "metadata": {},
   "source": [
    "### Time Series Split"
   ]
  },
  {
   "cell_type": "code",
   "execution_count": null,
   "metadata": {
    "collapsed": true
   },
   "outputs": [],
   "source": [
    "from sklearn.model_selection import TimeSeriesSplit\n",
    "\n",
    "def get_train_val_test(df, columns):\n",
    "    df = get_data().sort_values(by='time')\n",
    "    df = df[columns]\n",
    "    trn_split = int(len(df)*.6)\n",
    "    val_split = trn_split + int(len(df)*.2)\n",
    "    tst_split = val_split + int(len(df)*.2)\n",
    "    \n",
    "    train = df[:trn_split]\n",
    "    val = df[trn_split:val_split]\n",
    "    test = df[val_split:]\n",
    "    \n",
    "    return train, val, test"
   ]
  },
  {
   "cell_type": "markdown",
   "metadata": {},
   "source": [
    "### Resample"
   ]
  },
  {
   "cell_type": "code",
   "execution_count": null,
   "metadata": {
    "collapsed": true
   },
   "outputs": [],
   "source": [
    "from sklearn.utils import resample\n",
    "\n",
    "def get_resampled(df, min_ratio=.1):\n",
    "    positive = df.loc[df.label == 1]\n",
    "    negative = df.loc[df.label == 0].sample(frac=.5)  # undersample\n",
    "    n_pos = int(min_ratio*len(negative))\n",
    "    positive = resample(positive, n_samples=n_pos)  # oversample\n",
    "    return pd.concat([negative, positive])"
   ]
  },
  {
   "cell_type": "markdown",
   "metadata": {},
   "source": [
    "## Modeling"
   ]
  },
  {
   "cell_type": "markdown",
   "metadata": {},
   "source": [
    "### Logistic Regression"
   ]
  },
  {
   "cell_type": "code",
   "execution_count": null,
   "metadata": {
    "collapsed": true
   },
   "outputs": [],
   "source": [
    "from sklearn.linear_model import LogisticRegression\n",
    "\n",
    "model = LogisticRegression(C=1.0) # C = regularization, lower = more\n",
    "model.fit(X_train, y_train)\n",
    "model.score(X_val, y_val)"
   ]
  },
  {
   "cell_type": "code",
   "execution_count": null,
   "metadata": {
    "collapsed": true
   },
   "outputs": [],
   "source": [
    "y_pred = model.predict(X_val)\n",
    "y_prob = model.predict_proba(X_val)\n",
    "model.coef_ # pos = increase log odds of label"
   ]
  },
  {
   "cell_type": "markdown",
   "metadata": {},
   "source": [
    "### Random Forest"
   ]
  },
  {
   "cell_type": "code",
   "execution_count": null,
   "metadata": {},
   "outputs": [],
   "source": [
    "from sklearn.ensemble import RandomForestClassifier\n",
    "\n",
    "model = RandomForestClassifier(n_estimators=10)\n",
    "model.fit(X_train, y_train)\n",
    "model.score(X_val, y_val)"
   ]
  },
  {
   "cell_type": "code",
   "execution_count": null,
   "metadata": {},
   "outputs": [],
   "source": [
    "# Feature importance\n",
    "pd.Series(\n",
    "    model.feature_importances_, \n",
    "    index=df.columns[:-1]).sort_values(\n",
    "    ascending=False)[:10]"
   ]
  },
  {
   "cell_type": "markdown",
   "metadata": {},
   "source": [
    "### KNN"
   ]
  },
  {
   "cell_type": "code",
   "execution_count": null,
   "metadata": {
    "collapsed": true
   },
   "outputs": [],
   "source": [
    "from sklearn.neighbors import KNeighborsClassifier\n",
    "\n",
    "model = KNeighborsClassifier(n_neighbors=3)\n",
    "model.fit(X_train, y_train)\n",
    "model.score(X_val, y_val)"
   ]
  },
  {
   "cell_type": "markdown",
   "metadata": {},
   "source": [
    "### K-Means"
   ]
  },
  {
   "cell_type": "code",
   "execution_count": null,
   "metadata": {},
   "outputs": [],
   "source": [
    "from sklearn.cluster import KMeans\n",
    "\n",
    "model = KMeans(n_clusters=4)\n",
    "#model.fit(X_train)"
   ]
  },
  {
   "cell_type": "markdown",
   "metadata": {},
   "source": [
    "## Grid Search / CV"
   ]
  },
  {
   "cell_type": "markdown",
   "metadata": {},
   "source": [
    "### Cross Validation"
   ]
  },
  {
   "cell_type": "code",
   "execution_count": null,
   "metadata": {
    "collapsed": true
   },
   "outputs": [],
   "source": [
    "from sklearn.model_selection import cross_val_score\n",
    "# http://scikit-learn.org/stable/modules/cross_validation.html#multimetric-cross-validation\n",
    "# http://scikit-learn.org/stable/modules/classes.html#module-sklearn.model_selection\n"
   ]
  },
  {
   "cell_type": "markdown",
   "metadata": {},
   "source": [
    "### Grid Search"
   ]
  },
  {
   "cell_type": "code",
   "execution_count": null,
   "metadata": {
    "collapsed": true
   },
   "outputs": [],
   "source": [
    "# http://scikit-learn.org/stable/modules/grid_search.html\n",
    "from sklearn.grid_search import GridSearchCV\n",
    "params = {\"n_neighbors\": np.arange(1,3), \"metric\": [\"euclidean\", \"cityblock\"]}\n",
    "grid = GridSearchCV(estimator=knn, param_grid=params)\n",
    "grid.fit(X_train, y_train)\n",
    "print(grid.best_score_)\n",
    "print(grid.best_estimator_.n_neighbors)"
   ]
  },
  {
   "cell_type": "markdown",
   "metadata": {},
   "source": [
    "## Metrics"
   ]
  },
  {
   "cell_type": "code",
   "execution_count": null,
   "metadata": {
    "collapsed": true
   },
   "outputs": [],
   "source": [
    "# Accuracy\n",
    "model.score(X_train, y_train)"
   ]
  },
  {
   "cell_type": "code",
   "execution_count": 17,
   "metadata": {
    "collapsed": true
   },
   "outputs": [],
   "source": [
    "# Precision/Recall\n",
    "from sklearn.metrics import precision_score, recall_score"
   ]
  },
  {
   "cell_type": "code",
   "execution_count": 18,
   "metadata": {
    "collapsed": true
   },
   "outputs": [],
   "source": [
    "# F1 score\n",
    "from sklearn.metrics import f1_score"
   ]
  },
  {
   "cell_type": "code",
   "execution_count": null,
   "metadata": {
    "collapsed": true
   },
   "outputs": [],
   "source": [
    "# F2 Score\n",
    "from sklearn.metrics import fbeta_score\n",
    "fbeta_score(y_test, tst_preds, pos_label=1, beta=2)"
   ]
  },
  {
   "cell_type": "code",
   "execution_count": null,
   "metadata": {
    "collapsed": true
   },
   "outputs": [],
   "source": [
    "# Classification Report\n",
    "from sklearn.metrics import classification_report\n",
    "print(classification_report(y_test, tst_preds))"
   ]
  },
  {
   "cell_type": "code",
   "execution_count": null,
   "metadata": {
    "collapsed": true
   },
   "outputs": [],
   "source": [
    "# Confusion Matrix\n",
    "from sklearn.metrics import confusion_matrix\n",
    "scikitplot.metrics.plot_confusion_matrix(y_test, tst_preds);"
   ]
  },
  {
   "cell_type": "code",
   "execution_count": null,
   "metadata": {
    "collapsed": true
   },
   "outputs": [],
   "source": [
    "# ROC Curve - Recall / Specificity (FPR)\n",
    "import scikitplot\n",
    "scikitplot.metrics.plot_roc_curve(y_test, tst_probs);"
   ]
  },
  {
   "cell_type": "code",
   "execution_count": null,
   "metadata": {
    "collapsed": true
   },
   "outputs": [],
   "source": [
    "# Precision/Recall Curce\n",
    "import scikitplot\n",
    "skplt.metrics.plot_precision_recall_curve(y_test, tst_probs);"
   ]
  },
  {
   "cell_type": "markdown",
   "metadata": {},
   "source": [
    "## Similarity"
   ]
  },
  {
   "cell_type": "markdown",
   "metadata": {},
   "source": [
    "### Distance Metrics"
   ]
  },
  {
   "cell_type": "code",
   "execution_count": null,
   "metadata": {
    "collapsed": true
   },
   "outputs": [],
   "source": [
    "from sklearn.metrics.pairwise import cosine_similarity\n",
    "from sklearn.metrics.pairwise import euclidean_distances\n",
    "\n",
    "# Given a matrix of numerical vectors\n",
    "# Calculate the similarity of each to all other vectors\n",
    "cos_sim = cosine_similarity(X, X)\n",
    "euc_sim = euclidean_distances(X, X)"
   ]
  },
  {
   "cell_type": "code",
   "execution_count": null,
   "metadata": {
    "collapsed": true
   },
   "outputs": [],
   "source": [
    "def get_similar_users(df, simmat):\n",
    "    for idx in range(len(simmat)):\n",
    "        sorted_idxs = np.argsort(simmat[idx])[::-1]\n",
    "\n",
    "        most_sim_idx = sorted_idxs[1:6]\n",
    "        most_sim_val = simmat[idx][most_sim_idx]\n",
    "        \n",
    "        least_sim_idx = sorted_idxs[-5:]\n",
    "        least_sim_val = simmat[idx][least_sim_idx]\n",
    "    \n",
    "get_similar_users(df, cos_sim)"
   ]
  },
  {
   "cell_type": "markdown",
   "metadata": {},
   "source": [
    "### KNN"
   ]
  },
  {
   "cell_type": "code",
   "execution_count": null,
   "metadata": {
    "collapsed": true
   },
   "outputs": [],
   "source": []
  },
  {
   "cell_type": "markdown",
   "metadata": {},
   "source": [
    "## Anomaly"
   ]
  },
  {
   "cell_type": "markdown",
   "metadata": {},
   "source": [
    "### Gaussian Density Estimation"
   ]
  },
  {
   "cell_type": "code",
   "execution_count": null,
   "metadata": {
    "collapsed": true
   },
   "outputs": [],
   "source": [
    "def estimateGaussian(dataset):\n",
    "    # :sigma: Covariance matrix\n",
    "    # :mu: mean\n",
    "    mu = np.mean(dataset, axis=0)\n",
    "    sigma = np.cov(dataset.T)\n",
    "    return mu, sigma\n",
    "\n",
    "def multivariateGaussian(dataset, mu, sigma):\n",
    "    # :sigma: Covariance matrix\n",
    "    # :mu: mean\n",
    "    \n",
    "    # Returns P(x) over multiple features \n",
    "    p = multivariate_normal(mean=mu, cov=sigma)\n",
    "    return p.pdf(dataset)\n",
    "\n",
    "def optimal_epsilon(probs, targets, epsilons):\n",
    "    best_f2 = 0\n",
    "    best_f1 = 0\n",
    "    best_eps = None    \n",
    "    precisions = []\n",
    "    recalls = []\n",
    "    f2s = []\n",
    "    for eps in epsilons:\n",
    "        preds = probs < eps\n",
    "        f2 = fbeta_score(targets, preds, beta=2, average='binary')\n",
    "        f2s.append(f2)\n",
    "        precisions.append(precision_score(targets, preds))\n",
    "        recalls.append(recall_score(targets, preds))\n",
    "        if f2 > best_f2:\n",
    "            best_f2 = f2\n",
    "            #best_eps = eps\n",
    "        f1 = f1_score(targets, preds, average='binary')\n",
    "        if f1 > best_f1:\n",
    "            best_f1 = f1\n",
    "            best_eps = eps\n",
    "\n",
    "    return best_f2, best_f1, best_eps, epsilons, f2s, precisions, recalls"
   ]
  },
  {
   "cell_type": "code",
   "execution_count": null,
   "metadata": {
    "collapsed": true
   },
   "outputs": [],
   "source": [
    "mu, sigma = estimateGaussian(normal.iloc[:,:-1])\n",
    "probs = multivariateGaussian(X_val, mu, sigma)"
   ]
  },
  {
   "cell_type": "code",
   "execution_count": null,
   "metadata": {
    "collapsed": true
   },
   "outputs": [],
   "source": [
    "# Find proper thresholds\n",
    "probs_df = pd.DataFrame(probs[y_val == 1])\n",
    "top = probs_df.quantile(q=.95)[0]\n",
    "bottom = probs_df.quantile(q=.4)[0]\n",
    "bottom,top"
   ]
  },
  {
   "cell_type": "code",
   "execution_count": null,
   "metadata": {
    "collapsed": true
   },
   "outputs": [],
   "source": [
    "# Predict\n",
    "eps = best_eps\n",
    "preds = (probs < best_eps)\n",
    "Recall = recall_score(y_val, preds)    \n",
    "Precision = precision_score(y_val, preds)\n",
    "F1score = f1_score(y_val, preds)    \n",
    "print ('F1 score , Recall and Precision for Test dataset')\n",
    "print ('Best F1 Score %f' %F1score)\n",
    "print ('Best Recall Score %f' %Recall)\n",
    "print ('Best Precision Score %f' %Precision)"
   ]
  },
  {
   "cell_type": "code",
   "execution_count": null,
   "metadata": {
    "collapsed": true
   },
   "outputs": [],
   "source": [
    "# Visualize Positive vs Negative\n",
    "normal = val.iloc[preds == 0]\n",
    "pos_correct = val.loc[(preds == 1) & (y_val == 1)] \n",
    "pos_incorrect = val.loc[(preds == 1) & (y_val == 0)] \n",
    "fig, ax = plt.subplots(figsize=(18,10))\n",
    "ax.scatter(normal['V14'], normal['V11'], marker=\"o\", color=\"lightBlue\");\n",
    "ax.scatter(fraud_correct['V14'], fraud_correct['V11'], marker=\"+\", color=\"green\");\n",
    "ax.scatter(fraud_incorrect['V14'], fraud_incorrect['V11'], marker=\"+\", color=\"red\");"
   ]
  }
 ],
 "metadata": {
  "kernelspec": {
   "display_name": "Python 3",
   "language": "python",
   "name": "python3"
  },
  "toc": {
   "nav_menu": {},
   "number_sections": true,
   "sideBar": true,
   "skip_h1_title": false,
   "toc_cell": false,
   "toc_position": {},
   "toc_section_display": "block",
   "toc_window_display": false
  }
 },
 "nbformat": 4,
 "nbformat_minor": 2
}
