{
 "cells": [
  {
   "cell_type": "markdown",
   "metadata": {},
   "source": [
    "## Cheatsheet"
   ]
  },
  {
   "cell_type": "code",
   "execution_count": 371,
   "metadata": {
    "collapsed": true
   },
   "outputs": [],
   "source": [
    "%matplotlib inline\n",
    "import numpy as np\n",
    "import pandas as pd\n",
    "import matplotlib.pyplot as plt\n",
    "from pathlib import Path\n",
    "import scikitplot\n",
    "import datetime\n",
    "import seaborn as sns\n",
    "import datetime\n",
    "import random\n",
    "import uuid\n",
    "sns.set()"
   ]
  },
  {
   "cell_type": "markdown",
   "metadata": {},
   "source": [
    "## Dataset"
   ]
  },
  {
   "cell_type": "code",
   "execution_count": 354,
   "metadata": {},
   "outputs": [
    {
     "data": {
      "text/html": [
       "<div>\n",
       "<style>\n",
       "    .dataframe thead tr:only-child th {\n",
       "        text-align: right;\n",
       "    }\n",
       "\n",
       "    .dataframe thead th {\n",
       "        text-align: left;\n",
       "    }\n",
       "\n",
       "    .dataframe tbody tr th {\n",
       "        vertical-align: top;\n",
       "    }\n",
       "</style>\n",
       "<table border=\"1\" class=\"dataframe\">\n",
       "  <thead>\n",
       "    <tr style=\"text-align: right;\">\n",
       "      <th></th>\n",
       "      <th>amount</th>\n",
       "      <th>country</th>\n",
       "      <th>device</th>\n",
       "      <th>label</th>\n",
       "      <th>name</th>\n",
       "      <th>time</th>\n",
       "      <th>user</th>\n",
       "      <th>id</th>\n",
       "    </tr>\n",
       "    <tr>\n",
       "      <th>id</th>\n",
       "      <th></th>\n",
       "      <th></th>\n",
       "      <th></th>\n",
       "      <th></th>\n",
       "      <th></th>\n",
       "      <th></th>\n",
       "      <th></th>\n",
       "      <th></th>\n",
       "    </tr>\n",
       "  </thead>\n",
       "  <tbody>\n",
       "    <tr>\n",
       "      <th>4908</th>\n",
       "      <td>105.588116</td>\n",
       "      <td>us</td>\n",
       "      <td>A</td>\n",
       "      <td>0</td>\n",
       "      <td>D U</td>\n",
       "      <td>1.524069e+09</td>\n",
       "      <td>706</td>\n",
       "      <td>4908</td>\n",
       "    </tr>\n",
       "    <tr>\n",
       "      <th>6327</th>\n",
       "      <td>103.051363</td>\n",
       "      <td>cn</td>\n",
       "      <td>C</td>\n",
       "      <td>0</td>\n",
       "      <td>H M</td>\n",
       "      <td>1.523752e+09</td>\n",
       "      <td>229</td>\n",
       "      <td>6327</td>\n",
       "    </tr>\n",
       "    <tr>\n",
       "      <th>8452</th>\n",
       "      <td>96.187956</td>\n",
       "      <td>ca</td>\n",
       "      <td>D</td>\n",
       "      <td>0</td>\n",
       "      <td>T R</td>\n",
       "      <td>1.523704e+09</td>\n",
       "      <td>393</td>\n",
       "      <td>8452</td>\n",
       "    </tr>\n",
       "    <tr>\n",
       "      <th>831</th>\n",
       "      <td>95.236296</td>\n",
       "      <td>us</td>\n",
       "      <td>D</td>\n",
       "      <td>0</td>\n",
       "      <td>L L</td>\n",
       "      <td>1.523919e+09</td>\n",
       "      <td>583</td>\n",
       "      <td>831</td>\n",
       "    </tr>\n",
       "    <tr>\n",
       "      <th>7944</th>\n",
       "      <td>94.366095</td>\n",
       "      <td>us</td>\n",
       "      <td>C</td>\n",
       "      <td>0</td>\n",
       "      <td>M S</td>\n",
       "      <td>1.523931e+09</td>\n",
       "      <td>262</td>\n",
       "      <td>7944</td>\n",
       "    </tr>\n",
       "  </tbody>\n",
       "</table>\n",
       "</div>"
      ],
      "text/plain": [
       "          amount country device  label name          time  user    id\n",
       "id                                                                   \n",
       "4908  105.588116      us      A      0  D U  1.524069e+09   706  4908\n",
       "6327  103.051363      cn      C      0  H M  1.523752e+09   229  6327\n",
       "8452   96.187956      ca      D      0  T R  1.523704e+09   393  8452\n",
       "831    95.236296      us      D      0  L L  1.523919e+09   583   831\n",
       "7944   94.366095      us      C      0  M S  1.523931e+09   262  7944"
      ]
     },
     "execution_count": 354,
     "metadata": {},
     "output_type": "execute_result"
    }
   ],
   "source": [
    "def get_data():\n",
    "    df = pd.read_csv('fakedata.csv', index_col='id')\n",
    "    df['id'] = df.index\n",
    "    df = df.rename(columns={'class':'label'})\n",
    "    return df\n",
    "\n",
    "df = get_data()\n",
    "df.head()"
   ]
  },
  {
   "cell_type": "code",
   "execution_count": 370,
   "metadata": {},
   "outputs": [],
   "source": [
    "categorical = ['country', 'device']\n",
    "identifiers = ['id', 'user', 'name']\n",
    "numerical = ['amount']\n",
    "target = 'label'"
   ]
  },
  {
   "cell_type": "markdown",
   "metadata": {},
   "source": [
    "## Summary Stats"
   ]
  },
  {
   "cell_type": "code",
   "execution_count": 357,
   "metadata": {},
   "outputs": [
    {
     "name": "stdout",
     "output_type": "stream",
     "text": [
      "<class 'pandas.core.frame.DataFrame'>\n",
      "Int64Index: 11000 entries, 4908 to 7111\n",
      "Data columns (total 8 columns):\n",
      "amount     11000 non-null float64\n",
      "country    11000 non-null object\n",
      "device     11000 non-null object\n",
      "label      11000 non-null int64\n",
      "name       11000 non-null object\n",
      "time       11000 non-null float64\n",
      "user       11000 non-null int64\n",
      "id         11000 non-null int64\n",
      "dtypes: float64(2), int64(3), object(3)\n",
      "memory usage: 773.4+ KB\n"
     ]
    },
    {
     "data": {
      "text/plain": [
       "0    9990\n",
       "1    1010\n",
       "Name: label, dtype: int64"
      ]
     },
     "execution_count": 357,
     "metadata": {},
     "output_type": "execute_result"
    }
   ],
   "source": [
    "df.info()\n",
    "df.describe()\n",
    "df.nunique()\n",
    "df.isnull().sum() # null count\n",
    "df.label.value_counts()\n",
    "df.describe(include='O') # Categorical columns"
   ]
  },
  {
   "cell_type": "markdown",
   "metadata": {},
   "source": [
    "## Time\n"
   ]
  },
  {
   "cell_type": "markdown",
   "metadata": {},
   "source": [
    "### Time Features (Hour, Min, Day)"
   ]
  },
  {
   "cell_type": "code",
   "execution_count": null,
   "metadata": {},
   "outputs": [],
   "source": [
    "df['datetime'] = df.time.apply(datetime.datetime.fromtimestamp)\n",
    "df['time_hour'] = df.datetime.dt.round('H')\n",
    "df['time_day'] = df.datetime.dt.round('D')\n",
    "df['hour'] = df.datetime.dt.hour\n",
    "df['minute'] = df.datetime.dt.minute\n",
    "df['daywk'] = df.datetime.dt.dayofweek\n",
    "df.head()"
   ]
  },
  {
   "cell_type": "markdown",
   "metadata": {},
   "source": [
    "## Plotting"
   ]
  },
  {
   "cell_type": "markdown",
   "metadata": {},
   "source": [
    "### Time Series"
   ]
  },
  {
   "cell_type": "code",
   "execution_count": null,
   "metadata": {},
   "outputs": [],
   "source": [
    "grouped = df.groupby('time_day')\n",
    "rates = grouped[target].sum() / grouped[target].count()\n",
    "rates.plot(kind='line');"
   ]
  },
  {
   "cell_type": "markdown",
   "metadata": {},
   "source": [
    "### Categorical (Bar)"
   ]
  },
  {
   "cell_type": "code",
   "execution_count": null,
   "metadata": {},
   "outputs": [],
   "source": [
    "for c in categorical:\n",
    "    grouped = df.groupby(c)\n",
    "    rates = grouped[target].sum() / grouped[target].count()\n",
    "    print(rates)\n",
    "    rates.plot(kind='bar')\n",
    "    plt.show()"
   ]
  },
  {
   "cell_type": "markdown",
   "metadata": {},
   "source": [
    "### Categorical (Count)"
   ]
  },
  {
   "cell_type": "code",
   "execution_count": null,
   "metadata": {},
   "outputs": [],
   "source": [
    "for c in categorical:\n",
    "    print(df[c].value_counts())\n",
    "    sns.countplot(data=df, x=c, hue=target)\n",
    "    plt.title(c)\n",
    "    plt.show()"
   ]
  },
  {
   "cell_type": "markdown",
   "metadata": {},
   "source": [
    "### Histograms (Overlap)"
   ]
  },
  {
   "cell_type": "code",
   "execution_count": 382,
   "metadata": {},
   "outputs": [
    {
     "data": {
      "image/png": "[encoded data removed]",
      "text/plain": [
       "<matplotlib.figure.Figure at 0x1a27d01da0>"
      ]
     },
     "metadata": {},
     "output_type": "display_data"
    }
   ],
   "source": [
    "q = df.amount.quantile(q=.3)  # First grab quartiles\n",
    "for c in numerical:\n",
    "    sns.distplot(df[(df[target] == 0) & (df.amount < q)][c], bins=20, label='0')\n",
    "    sns.distplot(df[(df[target] == 1) & (df.amount < q)][c], bins=20, label='1')\n",
    "    plt.legend()\n",
    "    plt.title(c)"
   ]
  },
  {
   "cell_type": "code",
   "execution_count": 383,
   "metadata": {},
   "outputs": [
    {
     "data": {
      "image/png": "[encoded data removed]",
      "text/plain": [
       "<matplotlib.figure.Figure at 0x1a27cae7f0>"
      ]
     },
     "metadata": {},
     "output_type": "display_data"
    }
   ],
   "source": [
    "fig = plt.figure()\n",
    "ax = fig.subplots(nrows=1, ncols=1)\n",
    "df[df.label == 0].hist(column='amount', bins=20, ax=ax, label='0', alpha=.5)\n",
    "df[df.label == 1].hist(column='amount', bins=20, ax=ax, label='1', alpha=.6)\n",
    "plt.legend();"
   ]
  },
  {
   "cell_type": "markdown",
   "metadata": {},
   "source": [
    "### Histograms (Side-by-side)"
   ]
  },
  {
   "cell_type": "code",
   "execution_count": 379,
   "metadata": {},
   "outputs": [
    {
     "data": {
      "image/png": "[encoded data removed]",
      "text/plain": [
       "<matplotlib.figure.Figure at 0x1a26d7e780>"
      ]
     },
     "metadata": {},
     "output_type": "display_data"
    }
   ],
   "source": [
    "g = sns.FacetGrid(df, col='label')\n",
    "g.map(plt.hist, 'amount', bins=20, alpha=.8);"
   ]
  },
  {
   "cell_type": "code",
   "execution_count": 380,
   "metadata": {},
   "outputs": [
    {
     "data": {
      "image/png": "[encoded data removed]",
      "text/plain": [
       "<matplotlib.figure.Figure at 0x1a25ac6cf8>"
      ]
     },
     "metadata": {},
     "output_type": "display_data"
    }
   ],
   "source": [
    "# Facetgrid with value combos + categories\n",
    "grid = sns.FacetGrid(df, col='label', row='country')\n",
    "grid.map(plt.hist, 'amount', bins=20, alpha=.8)\n",
    "grid.add_legend();"
   ]
  },
  {
   "cell_type": "markdown",
   "metadata": {},
   "source": [
    "## Covariance"
   ]
  },
  {
   "cell_type": "markdown",
   "metadata": {},
   "source": [
    "### Correlation Matrix and Heatmap"
   ]
  },
  {
   "cell_type": "code",
   "execution_count": null,
   "metadata": {},
   "outputs": [],
   "source": [
    "# Numerical and Time only\n",
    "corr = df.corr()\n",
    "fig = plt.figure(figsize=(14,14))\n",
    "sns.heatmap(corr, annot=True);"
   ]
  },
  {
   "cell_type": "markdown",
   "metadata": {},
   "source": [
    "### Most Correlated Features"
   ]
  },
  {
   "cell_type": "code",
   "execution_count": null,
   "metadata": {},
   "outputs": [],
   "source": [
    "corr.nlargest(n=5, columns='class')['class']\n",
    "corr.nsmallest(n=5, columns='class')['class']"
   ]
  },
  {
   "cell_type": "markdown",
   "metadata": {
    "heading_collapsed": true
   },
   "source": [
    "## Aggregation"
   ]
  },
  {
   "cell_type": "markdown",
   "metadata": {
    "hidden": true
   },
   "source": [
    "### Basic"
   ]
  },
  {
   "cell_type": "code",
   "execution_count": null,
   "metadata": {
    "hidden": true
   },
   "outputs": [],
   "source": [
    "# Multiple statistics\n",
    "df[['amount', 'daywk']].describe().T"
   ]
  },
  {
   "cell_type": "code",
   "execution_count": null,
   "metadata": {
    "hidden": true
   },
   "outputs": [],
   "source": [
    "# Count occurances\n",
    "df['country'].value_counts()"
   ]
  },
  {
   "cell_type": "code",
   "execution_count": null,
   "metadata": {
    "hidden": true
   },
   "outputs": [],
   "source": [
    "# Mode\n",
    "df[['device', 'country']].mode().T"
   ]
  },
  {
   "cell_type": "markdown",
   "metadata": {
    "hidden": true
   },
   "source": [
    "### Custom Aggregations"
   ]
  },
  {
   "cell_type": "code",
   "execution_count": null,
   "metadata": {
    "hidden": true
   },
   "outputs": [],
   "source": [
    "aggregations = {\n",
    "    'class': {\n",
    "        'pos': 'sum',\n",
    "        'total': 'count',\n",
    "        'rate': lambda x: x.sum() / x.count()\n",
    "    },\n",
    "    'amount': {\n",
    "        'avg_amt': 'mean',\n",
    "        'med_amt': 'median',\n",
    "        'std_amt': 'std',\n",
    "        'mode_smt': lambda x: x.value_counts().index[0]\n",
    "    },\n",
    "    'country': {\n",
    "        'primary_country': lambda x: x.value_counts().index[0],\n",
    "        'n_countries': lambda x: x.nunique()\n",
    "    },\n",
    "    'device': {\n",
    "        'primary_device': lambda x: x.value_counts().index[0],\n",
    "        'n_devices': lambda x: x.nunique()\n",
    "    },\n",
    "    'datetime': {\n",
    "        'account_created': 'min',\n",
    "        'account_age': lambda x: (datetime.datetime.utcnow() - min(x)).days\n",
    "    }\n",
    "}"
   ]
  },
  {
   "cell_type": "code",
   "execution_count": null,
   "metadata": {
    "hidden": true
   },
   "outputs": [],
   "source": [
    "users = df.groupby('user', as_index=False).agg(aggregations)\n",
    "users.columns = users.columns.droplevel()\n",
    "users = users.rename(columns={'':'user'})\n",
    "users.head()"
   ]
  },
  {
   "cell_type": "markdown",
   "metadata": {
    "hidden": true
   },
   "source": [
    "### Assign columns with custom function"
   ]
  },
  {
   "cell_type": "code",
   "execution_count": null,
   "metadata": {
    "hidden": true
   },
   "outputs": [],
   "source": [
    "gb = df.groupby('user').min()['datetime']\n",
    "def getvalue(x):\n",
    "    return gb[x]\n",
    "\n",
    "df['created'] = df['user'].map(getvalue)\n",
    "df.head()"
   ]
  },
  {
   "cell_type": "markdown",
   "metadata": {
    "hidden": true
   },
   "source": [
    "### Assign Column with Transform"
   ]
  },
  {
   "cell_type": "code",
   "execution_count": null,
   "metadata": {
    "hidden": true
   },
   "outputs": [],
   "source": [
    "df['created'] = df.groupby('user')['datetime'].transform(np.min)\n",
    "df.head()"
   ]
  },
  {
   "cell_type": "markdown",
   "metadata": {
    "heading_collapsed": true
   },
   "source": [
    "## Group by"
   ]
  },
  {
   "cell_type": "markdown",
   "metadata": {
    "heading_collapsed": true,
    "hidden": true
   },
   "source": [
    "### Single column"
   ]
  },
  {
   "cell_type": "code",
   "execution_count": 344,
   "metadata": {
    "hidden": true
   },
   "outputs": [
    {
     "data": {
      "text/html": [
       "<div>\n",
       "<style>\n",
       "    .dataframe thead tr:only-child th {\n",
       "        text-align: right;\n",
       "    }\n",
       "\n",
       "    .dataframe thead th {\n",
       "        text-align: left;\n",
       "    }\n",
       "\n",
       "    .dataframe tbody tr th {\n",
       "        vertical-align: top;\n",
       "    }\n",
       "</style>\n",
       "<table border=\"1\" class=\"dataframe\">\n",
       "  <thead>\n",
       "    <tr style=\"text-align: right;\">\n",
       "      <th></th>\n",
       "      <th>country</th>\n",
       "      <th>class</th>\n",
       "    </tr>\n",
       "  </thead>\n",
       "  <tbody>\n",
       "    <tr>\n",
       "      <th>1</th>\n",
       "      <td>cn</td>\n",
       "      <td>0.277433</td>\n",
       "    </tr>\n",
       "    <tr>\n",
       "      <th>2</th>\n",
       "      <td>mx</td>\n",
       "      <td>0.123707</td>\n",
       "    </tr>\n",
       "    <tr>\n",
       "      <th>0</th>\n",
       "      <td>ca</td>\n",
       "      <td>0.087868</td>\n",
       "    </tr>\n",
       "    <tr>\n",
       "      <th>3</th>\n",
       "      <td>us</td>\n",
       "      <td>0.026740</td>\n",
       "    </tr>\n",
       "  </tbody>\n",
       "</table>\n",
       "</div>"
      ],
      "text/plain": [
       "  country     class\n",
       "1      cn  0.277433\n",
       "2      mx  0.123707\n",
       "0      ca  0.087868\n",
       "3      us  0.026740"
      ]
     },
     "execution_count": 344,
     "metadata": {},
     "output_type": "execute_result"
    }
   ],
   "source": [
    "# What's the positive rate by country?\n",
    "df[['country', 'class']].groupby(\n",
    "    ['country'], as_index=False).mean().sort_values(\n",
    "    by='class', ascending=False)"
   ]
  },
  {
   "cell_type": "markdown",
   "metadata": {
    "heading_collapsed": true,
    "hidden": true
   },
   "source": [
    "### Multiple Columns"
   ]
  },
  {
   "cell_type": "code",
   "execution_count": 397,
   "metadata": {
    "hidden": true
   },
   "outputs": [
    {
     "data": {
      "text/html": [
       "<div>\n",
       "<style>\n",
       "    .dataframe thead tr:only-child th {\n",
       "        text-align: right;\n",
       "    }\n",
       "\n",
       "    .dataframe thead th {\n",
       "        text-align: left;\n",
       "    }\n",
       "\n",
       "    .dataframe tbody tr th {\n",
       "        vertical-align: top;\n",
       "    }\n",
       "</style>\n",
       "<table border=\"1\" class=\"dataframe\">\n",
       "  <thead>\n",
       "    <tr style=\"text-align: right;\">\n",
       "      <th></th>\n",
       "      <th></th>\n",
       "      <th>amount</th>\n",
       "      <th>time</th>\n",
       "      <th>user</th>\n",
       "      <th>id</th>\n",
       "    </tr>\n",
       "    <tr>\n",
       "      <th>country</th>\n",
       "      <th>label</th>\n",
       "      <th></th>\n",
       "      <th></th>\n",
       "      <th></th>\n",
       "      <th></th>\n",
       "    </tr>\n",
       "  </thead>\n",
       "  <tbody>\n",
       "    <tr>\n",
       "      <th rowspan=\"2\" valign=\"top\">ca</th>\n",
       "      <th>0</th>\n",
       "      <td>99.903656</td>\n",
       "      <td>1.524049e+09</td>\n",
       "      <td>479.0</td>\n",
       "      <td>4821.0</td>\n",
       "    </tr>\n",
       "    <tr>\n",
       "      <th>1</th>\n",
       "      <td>70.663892</td>\n",
       "      <td>1.524027e+09</td>\n",
       "      <td>5.0</td>\n",
       "      <td>525.0</td>\n",
       "    </tr>\n",
       "    <tr>\n",
       "      <th rowspan=\"2\" valign=\"top\">cn</th>\n",
       "      <th>0</th>\n",
       "      <td>100.101118</td>\n",
       "      <td>1.524019e+09</td>\n",
       "      <td>454.0</td>\n",
       "      <td>5132.0</td>\n",
       "    </tr>\n",
       "    <tr>\n",
       "      <th>1</th>\n",
       "      <td>69.816100</td>\n",
       "      <td>1.524028e+09</td>\n",
       "      <td>5.0</td>\n",
       "      <td>496.0</td>\n",
       "    </tr>\n",
       "    <tr>\n",
       "      <th rowspan=\"2\" valign=\"top\">mx</th>\n",
       "      <th>0</th>\n",
       "      <td>100.577683</td>\n",
       "      <td>1.524063e+09</td>\n",
       "      <td>482.0</td>\n",
       "      <td>4940.5</td>\n",
       "    </tr>\n",
       "    <tr>\n",
       "      <th>1</th>\n",
       "      <td>70.031208</td>\n",
       "      <td>1.524007e+09</td>\n",
       "      <td>5.0</td>\n",
       "      <td>530.0</td>\n",
       "    </tr>\n",
       "    <tr>\n",
       "      <th rowspan=\"2\" valign=\"top\">us</th>\n",
       "      <th>0</th>\n",
       "      <td>99.757466</td>\n",
       "      <td>1.524048e+09</td>\n",
       "      <td>504.0</td>\n",
       "      <td>4984.5</td>\n",
       "    </tr>\n",
       "    <tr>\n",
       "      <th>1</th>\n",
       "      <td>72.990321</td>\n",
       "      <td>1.524032e+09</td>\n",
       "      <td>6.0</td>\n",
       "      <td>683.5</td>\n",
       "    </tr>\n",
       "  </tbody>\n",
       "</table>\n",
       "</div>"
      ],
      "text/plain": [
       "                   amount          time   user      id\n",
       "country label                                         \n",
       "ca      0       99.903656  1.524049e+09  479.0  4821.0\n",
       "        1       70.663892  1.524027e+09    5.0   525.0\n",
       "cn      0      100.101118  1.524019e+09  454.0  5132.0\n",
       "        1       69.816100  1.524028e+09    5.0   496.0\n",
       "mx      0      100.577683  1.524063e+09  482.0  4940.5\n",
       "        1       70.031208  1.524007e+09    5.0   530.0\n",
       "us      0       99.757466  1.524048e+09  504.0  4984.5\n",
       "        1       72.990321  1.524032e+09    6.0   683.5"
      ]
     },
     "execution_count": 397,
     "metadata": {},
     "output_type": "execute_result"
    }
   ],
   "source": [
    "df.groupby(['country', 'label']).median()"
   ]
  },
  {
   "cell_type": "markdown",
   "metadata": {
    "heading_collapsed": true,
    "hidden": true
   },
   "source": [
    "### Loop through groups"
   ]
  },
  {
   "cell_type": "code",
   "execution_count": null,
   "metadata": {
    "hidden": true
   },
   "outputs": [],
   "source": [
    "group = df[:15].groupby('daywk')\n",
    "for name, data in group:\n",
    "    print(data[categorical])\n",
    "    print('name', name, \"primary_ctry\", data.country.mode())"
   ]
  },
  {
   "cell_type": "markdown",
   "metadata": {
    "heading_collapsed": true,
    "hidden": true
   },
   "source": [
    "### Get Min/Max/Sum for Group"
   ]
  },
  {
   "cell_type": "code",
   "execution_count": null,
   "metadata": {
    "hidden": true
   },
   "outputs": [],
   "source": [
    "# Multiple columns\n",
    "group = df.groupby('daywk')\n",
    "group.aggregate(np.min).T"
   ]
  },
  {
   "cell_type": "code",
   "execution_count": null,
   "metadata": {
    "hidden": true
   },
   "outputs": [],
   "source": [
    "# Single Column\n",
    "group.created.describe()"
   ]
  },
  {
   "cell_type": "markdown",
   "metadata": {
    "heading_collapsed": true
   },
   "source": [
    "## Drop/Rename Columns"
   ]
  },
  {
   "cell_type": "code",
   "execution_count": null,
   "metadata": {
    "hidden": true
   },
   "outputs": [],
   "source": [
    "# Rename\n",
    "df.rename(columns={'class': 'class1'}, inplace=True)\n",
    "df.rename(columns={'class1': 'class'}, inplace=True)\n",
    "\n",
    "# Drop\n",
    "df.drop(labels=['time'], axis=1, inplace=True)\n",
    "df.head()"
   ]
  },
  {
   "cell_type": "markdown",
   "metadata": {},
   "source": [
    "## Null Handling"
   ]
  },
  {
   "cell_type": "markdown",
   "metadata": {},
   "source": [
    "### Drop Null"
   ]
  },
  {
   "cell_type": "code",
   "execution_count": 388,
   "metadata": {},
   "outputs": [],
   "source": [
    "# Specific column\n",
    "df = get_data()\n",
    "df = df.dropna(how='any', subset=['country'])"
   ]
  },
  {
   "cell_type": "code",
   "execution_count": 389,
   "metadata": {
    "collapsed": true
   },
   "outputs": [],
   "source": [
    "# Any column\n",
    "df = df.dropna(how='any')"
   ]
  },
  {
   "cell_type": "markdown",
   "metadata": {},
   "source": [
    "### Default Values"
   ]
  },
  {
   "cell_type": "code",
   "execution_count": 404,
   "metadata": {},
   "outputs": [],
   "source": [
    "# Constant\n",
    "df['label'].fillna(value=-1, inplace=True)\n",
    "\n",
    "# Median\n",
    "df['label'].fillna(value=df['label'].median(), inplace=True)\n",
    "\n",
    "# Multiple\n",
    "df = df.fillna({\n",
    "    \"label\": -1,\n",
    "    \"country\": \"unkown\",\n",
    "})"
   ]
  },
  {
   "cell_type": "markdown",
   "metadata": {},
   "source": [
    "### Conditional Values"
   ]
  },
  {
   "cell_type": "code",
   "execution_count": 406,
   "metadata": {
    "collapsed": true
   },
   "outputs": [],
   "source": [
    "df['amount'] = np.where((df['amount'] > 2000) & (df['amount'] < 10), 1000, df['amount'])"
   ]
  },
  {
   "cell_type": "markdown",
   "metadata": {},
   "source": [
    "### Bfill / Ffill"
   ]
  },
  {
   "cell_type": "code",
   "execution_count": 405,
   "metadata": {
    "collapsed": true
   },
   "outputs": [],
   "source": [
    "df['label'].fillna(method='bfill', inplace=True)\n",
    "df['label'].fillna(method='ffill', inplace=True)"
   ]
  },
  {
   "cell_type": "markdown",
   "metadata": {},
   "source": [
    "## Encoding"
   ]
  },
  {
   "cell_type": "markdown",
   "metadata": {},
   "source": [
    "### One-Hot Encoding"
   ]
  },
  {
   "cell_type": "code",
   "execution_count": 386,
   "metadata": {},
   "outputs": [
    {
     "data": {
      "text/html": [
       "<div>\n",
       "<style>\n",
       "    .dataframe thead tr:only-child th {\n",
       "        text-align: right;\n",
       "    }\n",
       "\n",
       "    .dataframe thead th {\n",
       "        text-align: left;\n",
       "    }\n",
       "\n",
       "    .dataframe tbody tr th {\n",
       "        vertical-align: top;\n",
       "    }\n",
       "</style>\n",
       "<table border=\"1\" class=\"dataframe\">\n",
       "  <thead>\n",
       "    <tr style=\"text-align: right;\">\n",
       "      <th></th>\n",
       "      <th>amount</th>\n",
       "      <th>device</th>\n",
       "      <th>label</th>\n",
       "      <th>name</th>\n",
       "      <th>time</th>\n",
       "      <th>user</th>\n",
       "      <th>id</th>\n",
       "      <th>ctr_ca</th>\n",
       "      <th>ctr_cn</th>\n",
       "      <th>ctr_mx</th>\n",
       "      <th>ctr_us</th>\n",
       "    </tr>\n",
       "    <tr>\n",
       "      <th>id</th>\n",
       "      <th></th>\n",
       "      <th></th>\n",
       "      <th></th>\n",
       "      <th></th>\n",
       "      <th></th>\n",
       "      <th></th>\n",
       "      <th></th>\n",
       "      <th></th>\n",
       "      <th></th>\n",
       "      <th></th>\n",
       "      <th></th>\n",
       "    </tr>\n",
       "  </thead>\n",
       "  <tbody>\n",
       "    <tr>\n",
       "      <th>4908</th>\n",
       "      <td>105.588116</td>\n",
       "      <td>A</td>\n",
       "      <td>0</td>\n",
       "      <td>D U</td>\n",
       "      <td>1.524069e+09</td>\n",
       "      <td>706</td>\n",
       "      <td>4908</td>\n",
       "      <td>0</td>\n",
       "      <td>0</td>\n",
       "      <td>0</td>\n",
       "      <td>1</td>\n",
       "    </tr>\n",
       "    <tr>\n",
       "      <th>6327</th>\n",
       "      <td>103.051363</td>\n",
       "      <td>C</td>\n",
       "      <td>0</td>\n",
       "      <td>H M</td>\n",
       "      <td>1.523752e+09</td>\n",
       "      <td>229</td>\n",
       "      <td>6327</td>\n",
       "      <td>0</td>\n",
       "      <td>1</td>\n",
       "      <td>0</td>\n",
       "      <td>0</td>\n",
       "    </tr>\n",
       "    <tr>\n",
       "      <th>8452</th>\n",
       "      <td>96.187956</td>\n",
       "      <td>D</td>\n",
       "      <td>0</td>\n",
       "      <td>T R</td>\n",
       "      <td>1.523704e+09</td>\n",
       "      <td>393</td>\n",
       "      <td>8452</td>\n",
       "      <td>1</td>\n",
       "      <td>0</td>\n",
       "      <td>0</td>\n",
       "      <td>0</td>\n",
       "    </tr>\n",
       "    <tr>\n",
       "      <th>831</th>\n",
       "      <td>95.236296</td>\n",
       "      <td>D</td>\n",
       "      <td>0</td>\n",
       "      <td>L L</td>\n",
       "      <td>1.523919e+09</td>\n",
       "      <td>583</td>\n",
       "      <td>831</td>\n",
       "      <td>0</td>\n",
       "      <td>0</td>\n",
       "      <td>0</td>\n",
       "      <td>1</td>\n",
       "    </tr>\n",
       "    <tr>\n",
       "      <th>7944</th>\n",
       "      <td>94.366095</td>\n",
       "      <td>C</td>\n",
       "      <td>0</td>\n",
       "      <td>M S</td>\n",
       "      <td>1.523931e+09</td>\n",
       "      <td>262</td>\n",
       "      <td>7944</td>\n",
       "      <td>0</td>\n",
       "      <td>0</td>\n",
       "      <td>0</td>\n",
       "      <td>1</td>\n",
       "    </tr>\n",
       "  </tbody>\n",
       "</table>\n",
       "</div>"
      ],
      "text/plain": [
       "          amount device  label name          time  user    id  ctr_ca  ctr_cn  \\\n",
       "id                                                                              \n",
       "4908  105.588116      A      0  D U  1.524069e+09   706  4908       0       0   \n",
       "6327  103.051363      C      0  H M  1.523752e+09   229  6327       0       1   \n",
       "8452   96.187956      D      0  T R  1.523704e+09   393  8452       1       0   \n",
       "831    95.236296      D      0  L L  1.523919e+09   583   831       0       0   \n",
       "7944   94.366095      C      0  M S  1.523931e+09   262  7944       0       0   \n",
       "\n",
       "      ctr_mx  ctr_us  \n",
       "id                    \n",
       "4908       0       1  \n",
       "6327       0       0  \n",
       "8452       0       0  \n",
       "831        0       1  \n",
       "7944       0       1  "
      ]
     },
     "execution_count": 386,
     "metadata": {},
     "output_type": "execute_result"
    }
   ],
   "source": [
    "# Used when order doesn't matter\n",
    "df = get_data()\n",
    "df = pd.get_dummies(df, columns=['country'], prefix=['ctr'])\n",
    "df.head()"
   ]
  },
  {
   "cell_type": "markdown",
   "metadata": {},
   "source": [
    "### Ordinal Encoding"
   ]
  },
  {
   "cell_type": "code",
   "execution_count": 416,
   "metadata": {},
   "outputs": [
    {
     "data": {
      "text/html": [
       "<div>\n",
       "<style>\n",
       "    .dataframe thead tr:only-child th {\n",
       "        text-align: right;\n",
       "    }\n",
       "\n",
       "    .dataframe thead th {\n",
       "        text-align: left;\n",
       "    }\n",
       "\n",
       "    .dataframe tbody tr th {\n",
       "        vertical-align: top;\n",
       "    }\n",
       "</style>\n",
       "<table border=\"1\" class=\"dataframe\">\n",
       "  <thead>\n",
       "    <tr style=\"text-align: right;\">\n",
       "      <th></th>\n",
       "      <th>amount</th>\n",
       "      <th>country</th>\n",
       "      <th>device</th>\n",
       "      <th>label</th>\n",
       "      <th>name</th>\n",
       "      <th>time</th>\n",
       "      <th>user</th>\n",
       "      <th>id</th>\n",
       "      <th>amount_band</th>\n",
       "      <th>new</th>\n",
       "    </tr>\n",
       "    <tr>\n",
       "      <th>id</th>\n",
       "      <th></th>\n",
       "      <th></th>\n",
       "      <th></th>\n",
       "      <th></th>\n",
       "      <th></th>\n",
       "      <th></th>\n",
       "      <th></th>\n",
       "      <th></th>\n",
       "      <th></th>\n",
       "      <th></th>\n",
       "    </tr>\n",
       "  </thead>\n",
       "  <tbody>\n",
       "    <tr>\n",
       "      <th>4908</th>\n",
       "      <td>105.588116</td>\n",
       "      <td>3</td>\n",
       "      <td>A</td>\n",
       "      <td>0</td>\n",
       "      <td>D U</td>\n",
       "      <td>1.524069e+09</td>\n",
       "      <td>706</td>\n",
       "      <td>4908</td>\n",
       "      <td>3</td>\n",
       "      <td>1</td>\n",
       "    </tr>\n",
       "    <tr>\n",
       "      <th>6327</th>\n",
       "      <td>103.051363</td>\n",
       "      <td>1</td>\n",
       "      <td>C</td>\n",
       "      <td>0</td>\n",
       "      <td>H M</td>\n",
       "      <td>1.523752e+09</td>\n",
       "      <td>229</td>\n",
       "      <td>6327</td>\n",
       "      <td>2</td>\n",
       "      <td>1</td>\n",
       "    </tr>\n",
       "    <tr>\n",
       "      <th>8452</th>\n",
       "      <td>96.187956</td>\n",
       "      <td>0</td>\n",
       "      <td>D</td>\n",
       "      <td>0</td>\n",
       "      <td>T R</td>\n",
       "      <td>1.523704e+09</td>\n",
       "      <td>393</td>\n",
       "      <td>8452</td>\n",
       "      <td>2</td>\n",
       "      <td>1</td>\n",
       "    </tr>\n",
       "    <tr>\n",
       "      <th>831</th>\n",
       "      <td>95.236296</td>\n",
       "      <td>3</td>\n",
       "      <td>D</td>\n",
       "      <td>0</td>\n",
       "      <td>L L</td>\n",
       "      <td>1.523919e+09</td>\n",
       "      <td>583</td>\n",
       "      <td>831</td>\n",
       "      <td>2</td>\n",
       "      <td>1</td>\n",
       "    </tr>\n",
       "    <tr>\n",
       "      <th>7944</th>\n",
       "      <td>94.366095</td>\n",
       "      <td>3</td>\n",
       "      <td>C</td>\n",
       "      <td>0</td>\n",
       "      <td>M S</td>\n",
       "      <td>1.523931e+09</td>\n",
       "      <td>262</td>\n",
       "      <td>7944</td>\n",
       "      <td>2</td>\n",
       "      <td>1</td>\n",
       "    </tr>\n",
       "  </tbody>\n",
       "</table>\n",
       "</div>"
      ],
      "text/plain": [
       "          amount  country device  label name          time  user    id  \\\n",
       "id                                                                       \n",
       "4908  105.588116        3      A      0  D U  1.524069e+09   706  4908   \n",
       "6327  103.051363        1      C      0  H M  1.523752e+09   229  6327   \n",
       "8452   96.187956        0      D      0  T R  1.523704e+09   393  8452   \n",
       "831    95.236296        3      D      0  L L  1.523919e+09   583   831   \n",
       "7944   94.366095        3      C      0  M S  1.523931e+09   262  7944   \n",
       "\n",
       "     amount_band  new  \n",
       "id                     \n",
       "4908           3    1  \n",
       "6327           2    1  \n",
       "8452           2    1  \n",
       "831            2    1  \n",
       "7944           2    1  "
      ]
     },
     "execution_count": 416,
     "metadata": {},
     "output_type": "execute_result"
    }
   ],
   "source": [
    "# Used when order matters (ordinal)\n",
    "df['country'] = df['country'].astype('category')\n",
    "df['country'] = df['country'].cat.codes\n",
    "df.head()"
   ]
  },
  {
   "cell_type": "markdown",
   "metadata": {},
   "source": [
    "### Binning"
   ]
  },
  {
   "cell_type": "code",
   "execution_count": 413,
   "metadata": {},
   "outputs": [
    {
     "data": {
      "text/html": [
       "<div>\n",
       "<style>\n",
       "    .dataframe thead tr:only-child th {\n",
       "        text-align: right;\n",
       "    }\n",
       "\n",
       "    .dataframe thead th {\n",
       "        text-align: left;\n",
       "    }\n",
       "\n",
       "    .dataframe tbody tr th {\n",
       "        vertical-align: top;\n",
       "    }\n",
       "</style>\n",
       "<table border=\"1\" class=\"dataframe\">\n",
       "  <thead>\n",
       "    <tr style=\"text-align: right;\">\n",
       "      <th></th>\n",
       "      <th>amount</th>\n",
       "      <th>country</th>\n",
       "      <th>device</th>\n",
       "      <th>label</th>\n",
       "      <th>name</th>\n",
       "      <th>time</th>\n",
       "      <th>user</th>\n",
       "      <th>id</th>\n",
       "      <th>amount_band</th>\n",
       "    </tr>\n",
       "    <tr>\n",
       "      <th>id</th>\n",
       "      <th></th>\n",
       "      <th></th>\n",
       "      <th></th>\n",
       "      <th></th>\n",
       "      <th></th>\n",
       "      <th></th>\n",
       "      <th></th>\n",
       "      <th></th>\n",
       "      <th></th>\n",
       "    </tr>\n",
       "  </thead>\n",
       "  <tbody>\n",
       "    <tr>\n",
       "      <th>4908</th>\n",
       "      <td>105.588116</td>\n",
       "      <td>us</td>\n",
       "      <td>A</td>\n",
       "      <td>0</td>\n",
       "      <td>D U</td>\n",
       "      <td>1.524069e+09</td>\n",
       "      <td>706</td>\n",
       "      <td>4908</td>\n",
       "      <td>3</td>\n",
       "    </tr>\n",
       "    <tr>\n",
       "      <th>6327</th>\n",
       "      <td>103.051363</td>\n",
       "      <td>cn</td>\n",
       "      <td>C</td>\n",
       "      <td>0</td>\n",
       "      <td>H M</td>\n",
       "      <td>1.523752e+09</td>\n",
       "      <td>229</td>\n",
       "      <td>6327</td>\n",
       "      <td>2</td>\n",
       "    </tr>\n",
       "    <tr>\n",
       "      <th>8452</th>\n",
       "      <td>96.187956</td>\n",
       "      <td>ca</td>\n",
       "      <td>D</td>\n",
       "      <td>0</td>\n",
       "      <td>T R</td>\n",
       "      <td>1.523704e+09</td>\n",
       "      <td>393</td>\n",
       "      <td>8452</td>\n",
       "      <td>2</td>\n",
       "    </tr>\n",
       "    <tr>\n",
       "      <th>831</th>\n",
       "      <td>95.236296</td>\n",
       "      <td>us</td>\n",
       "      <td>D</td>\n",
       "      <td>0</td>\n",
       "      <td>L L</td>\n",
       "      <td>1.523919e+09</td>\n",
       "      <td>583</td>\n",
       "      <td>831</td>\n",
       "      <td>2</td>\n",
       "    </tr>\n",
       "    <tr>\n",
       "      <th>7944</th>\n",
       "      <td>94.366095</td>\n",
       "      <td>us</td>\n",
       "      <td>C</td>\n",
       "      <td>0</td>\n",
       "      <td>M S</td>\n",
       "      <td>1.523931e+09</td>\n",
       "      <td>262</td>\n",
       "      <td>7944</td>\n",
       "      <td>2</td>\n",
       "    </tr>\n",
       "  </tbody>\n",
       "</table>\n",
       "</div>"
      ],
      "text/plain": [
       "          amount country device  label name          time  user    id  \\\n",
       "id                                                                      \n",
       "4908  105.588116      us      A      0  D U  1.524069e+09   706  4908   \n",
       "6327  103.051363      cn      C      0  H M  1.523752e+09   229  6327   \n",
       "8452   96.187956      ca      D      0  T R  1.523704e+09   393  8452   \n",
       "831    95.236296      us      D      0  L L  1.523919e+09   583   831   \n",
       "7944   94.366095      us      C      0  M S  1.523931e+09   262  7944   \n",
       "\n",
       "     amount_band  \n",
       "id                \n",
       "4908           3  \n",
       "6327           2  \n",
       "8452           2  \n",
       "831            2  \n",
       "7944           2  "
      ]
     },
     "execution_count": 413,
     "metadata": {},
     "output_type": "execute_result"
    }
   ],
   "source": [
    "# Used to group continuous values into intervals\n",
    "df = get_data()\n",
    "df['amount_band'] = pd.cut(df['amount'], 5, labels=[0,1,2,3,4])\n",
    "df.head()"
   ]
  },
  {
   "cell_type": "markdown",
   "metadata": {},
   "source": [
    "## Normalization"
   ]
  },
  {
   "cell_type": "markdown",
   "metadata": {},
   "source": [
    "### Calculate subgroup statistics"
   ]
  },
  {
   "cell_type": "code",
   "execution_count": null,
   "metadata": {},
   "outputs": [],
   "source": [
    "# Standardization by subgroup statistics\n",
    "group = df.groupby('daywk')\n",
    "zscore = lambda x: (x - x.mean()) / x.std()\n",
    "group.transform(zscore).head()"
   ]
  },
  {
   "cell_type": "markdown",
   "metadata": {},
   "source": [
    "### Standardization"
   ]
  },
  {
   "cell_type": "code",
   "execution_count": null,
   "metadata": {},
   "outputs": [],
   "source": [
    "# Subtract mean and divide by standard deviation\n",
    "from sklearn.preprocessing import StandardScaler\n",
    "\n",
    "scaler = StandardScaler()\n",
    "scaler.fit(X)\n",
    "X = scaler.transform(X)"
   ]
  },
  {
   "cell_type": "markdown",
   "metadata": {},
   "source": [
    "### Normalization (Min/Max)"
   ]
  },
  {
   "cell_type": "code",
   "execution_count": null,
   "metadata": {
    "collapsed": true
   },
   "outputs": [],
   "source": [
    "from sklearn.preprocessing import MinMaxScaler\n",
    "\n",
    "scaler = MinMaxScaler()\n",
    "scaler.fit(X)\n",
    "X = scaler.transform(X)"
   ]
  },
  {
   "cell_type": "markdown",
   "metadata": {},
   "source": [
    "### Binarization"
   ]
  },
  {
   "cell_type": "code",
   "execution_count": null,
   "metadata": {
    "collapsed": true
   },
   "outputs": [],
   "source": [
    "# Binarization (continuous --> 0/1)\n",
    "from sklearn.preprocessing import Binarizer\n",
    "binarizer = Binarizer(threshold=0.0).fit(X)\n",
    "X = binarizer.transform(X)"
   ]
  },
  {
   "cell_type": "markdown",
   "metadata": {},
   "source": [
    "## Feature Engineering"
   ]
  },
  {
   "cell_type": "markdown",
   "metadata": {},
   "source": [
    "### Conditional Features"
   ]
  },
  {
   "cell_type": "code",
   "execution_count": 418,
   "metadata": {},
   "outputs": [
    {
     "data": {
      "text/html": [
       "<div>\n",
       "<style>\n",
       "    .dataframe thead tr:only-child th {\n",
       "        text-align: right;\n",
       "    }\n",
       "\n",
       "    .dataframe thead th {\n",
       "        text-align: left;\n",
       "    }\n",
       "\n",
       "    .dataframe tbody tr th {\n",
       "        vertical-align: top;\n",
       "    }\n",
       "</style>\n",
       "<table border=\"1\" class=\"dataframe\">\n",
       "  <thead>\n",
       "    <tr style=\"text-align: right;\">\n",
       "      <th></th>\n",
       "      <th>amount</th>\n",
       "      <th>country</th>\n",
       "      <th>device</th>\n",
       "      <th>label</th>\n",
       "      <th>name</th>\n",
       "      <th>time</th>\n",
       "      <th>user</th>\n",
       "      <th>id</th>\n",
       "      <th>new</th>\n",
       "    </tr>\n",
       "    <tr>\n",
       "      <th>id</th>\n",
       "      <th></th>\n",
       "      <th></th>\n",
       "      <th></th>\n",
       "      <th></th>\n",
       "      <th></th>\n",
       "      <th></th>\n",
       "      <th></th>\n",
       "      <th></th>\n",
       "      <th></th>\n",
       "    </tr>\n",
       "  </thead>\n",
       "  <tbody>\n",
       "    <tr>\n",
       "      <th>4908</th>\n",
       "      <td>1.0</td>\n",
       "      <td>us</td>\n",
       "      <td>A</td>\n",
       "      <td>0</td>\n",
       "      <td>D U</td>\n",
       "      <td>1.524069e+09</td>\n",
       "      <td>706</td>\n",
       "      <td>4908</td>\n",
       "      <td>1</td>\n",
       "    </tr>\n",
       "    <tr>\n",
       "      <th>6327</th>\n",
       "      <td>1.0</td>\n",
       "      <td>cn</td>\n",
       "      <td>C</td>\n",
       "      <td>0</td>\n",
       "      <td>H M</td>\n",
       "      <td>1.523752e+09</td>\n",
       "      <td>229</td>\n",
       "      <td>6327</td>\n",
       "      <td>1</td>\n",
       "    </tr>\n",
       "    <tr>\n",
       "      <th>8452</th>\n",
       "      <td>1.0</td>\n",
       "      <td>ca</td>\n",
       "      <td>D</td>\n",
       "      <td>0</td>\n",
       "      <td>T R</td>\n",
       "      <td>1.523704e+09</td>\n",
       "      <td>393</td>\n",
       "      <td>8452</td>\n",
       "      <td>1</td>\n",
       "    </tr>\n",
       "    <tr>\n",
       "      <th>831</th>\n",
       "      <td>1.0</td>\n",
       "      <td>us</td>\n",
       "      <td>D</td>\n",
       "      <td>0</td>\n",
       "      <td>L L</td>\n",
       "      <td>1.523919e+09</td>\n",
       "      <td>583</td>\n",
       "      <td>831</td>\n",
       "      <td>1</td>\n",
       "    </tr>\n",
       "    <tr>\n",
       "      <th>7944</th>\n",
       "      <td>1.0</td>\n",
       "      <td>us</td>\n",
       "      <td>C</td>\n",
       "      <td>0</td>\n",
       "      <td>M S</td>\n",
       "      <td>1.523931e+09</td>\n",
       "      <td>262</td>\n",
       "      <td>7944</td>\n",
       "      <td>1</td>\n",
       "    </tr>\n",
       "  </tbody>\n",
       "</table>\n",
       "</div>"
      ],
      "text/plain": [
       "      amount country device  label name          time  user    id  new\n",
       "id                                                                    \n",
       "4908     1.0      us      A      0  D U  1.524069e+09   706  4908    1\n",
       "6327     1.0      cn      C      0  H M  1.523752e+09   229  6327    1\n",
       "8452     1.0      ca      D      0  T R  1.523704e+09   393  8452    1\n",
       "831      1.0      us      D      0  L L  1.523919e+09   583   831    1\n",
       "7944     1.0      us      C      0  M S  1.523931e+09   262  7944    1"
      ]
     },
     "execution_count": 418,
     "metadata": {},
     "output_type": "execute_result"
    }
   ],
   "source": [
    "df = get_data()\n",
    "\n",
    "# np.where\n",
    "df['new'] = np.where(df['amount'] > 10, 1, 0)\n",
    "\n",
    "# df.loc\n",
    "df.loc[ df['amount'] > 10, 'amount'] = 1\n",
    "\n",
    "df.head()"
   ]
  },
  {
   "cell_type": "markdown",
   "metadata": {},
   "source": [
    "### Map Features"
   ]
  },
  {
   "cell_type": "code",
   "execution_count": 430,
   "metadata": {},
   "outputs": [
    {
     "data": {
      "text/html": [
       "<div>\n",
       "<style>\n",
       "    .dataframe thead tr:only-child th {\n",
       "        text-align: right;\n",
       "    }\n",
       "\n",
       "    .dataframe thead th {\n",
       "        text-align: left;\n",
       "    }\n",
       "\n",
       "    .dataframe tbody tr th {\n",
       "        vertical-align: top;\n",
       "    }\n",
       "</style>\n",
       "<table border=\"1\" class=\"dataframe\">\n",
       "  <thead>\n",
       "    <tr style=\"text-align: right;\">\n",
       "      <th></th>\n",
       "      <th>amount</th>\n",
       "      <th>country</th>\n",
       "      <th>device</th>\n",
       "      <th>label</th>\n",
       "      <th>name</th>\n",
       "      <th>time</th>\n",
       "      <th>user</th>\n",
       "      <th>id</th>\n",
       "      <th>new</th>\n",
       "      <th>yo</th>\n",
       "    </tr>\n",
       "    <tr>\n",
       "      <th>id</th>\n",
       "      <th></th>\n",
       "      <th></th>\n",
       "      <th></th>\n",
       "      <th></th>\n",
       "      <th></th>\n",
       "      <th></th>\n",
       "      <th></th>\n",
       "      <th></th>\n",
       "      <th></th>\n",
       "      <th></th>\n",
       "    </tr>\n",
       "  </thead>\n",
       "  <tbody>\n",
       "    <tr>\n",
       "      <th>4908</th>\n",
       "      <td>1.0</td>\n",
       "      <td>us</td>\n",
       "      <td>A</td>\n",
       "      <td>0</td>\n",
       "      <td>D U</td>\n",
       "      <td>1.524069e+09</td>\n",
       "      <td>706</td>\n",
       "      <td>4908</td>\n",
       "      <td>1</td>\n",
       "      <td>false</td>\n",
       "    </tr>\n",
       "    <tr>\n",
       "      <th>6327</th>\n",
       "      <td>1.0</td>\n",
       "      <td>cn</td>\n",
       "      <td>C</td>\n",
       "      <td>0</td>\n",
       "      <td>H M</td>\n",
       "      <td>1.523752e+09</td>\n",
       "      <td>229</td>\n",
       "      <td>6327</td>\n",
       "      <td>1</td>\n",
       "      <td>false</td>\n",
       "    </tr>\n",
       "    <tr>\n",
       "      <th>8452</th>\n",
       "      <td>1.0</td>\n",
       "      <td>ca</td>\n",
       "      <td>D</td>\n",
       "      <td>0</td>\n",
       "      <td>T R</td>\n",
       "      <td>1.523704e+09</td>\n",
       "      <td>393</td>\n",
       "      <td>8452</td>\n",
       "      <td>1</td>\n",
       "      <td>false</td>\n",
       "    </tr>\n",
       "    <tr>\n",
       "      <th>831</th>\n",
       "      <td>1.0</td>\n",
       "      <td>us</td>\n",
       "      <td>D</td>\n",
       "      <td>0</td>\n",
       "      <td>L L</td>\n",
       "      <td>1.523919e+09</td>\n",
       "      <td>583</td>\n",
       "      <td>831</td>\n",
       "      <td>1</td>\n",
       "      <td>false</td>\n",
       "    </tr>\n",
       "    <tr>\n",
       "      <th>7944</th>\n",
       "      <td>1.0</td>\n",
       "      <td>us</td>\n",
       "      <td>C</td>\n",
       "      <td>0</td>\n",
       "      <td>M S</td>\n",
       "      <td>1.523931e+09</td>\n",
       "      <td>262</td>\n",
       "      <td>7944</td>\n",
       "      <td>1</td>\n",
       "      <td>false</td>\n",
       "    </tr>\n",
       "  </tbody>\n",
       "</table>\n",
       "</div>"
      ],
      "text/plain": [
       "      amount country device  label name          time  user    id  new     yo\n",
       "id                                                                           \n",
       "4908     1.0      us      A      0  D U  1.524069e+09   706  4908    1  false\n",
       "6327     1.0      cn      C      0  H M  1.523752e+09   229  6327    1  false\n",
       "8452     1.0      ca      D      0  T R  1.523704e+09   393  8452    1  false\n",
       "831      1.0      us      D      0  L L  1.523919e+09   583   831    1  false\n",
       "7944     1.0      us      C      0  M S  1.523931e+09   262  7944    1  false"
      ]
     },
     "execution_count": 430,
     "metadata": {},
     "output_type": "execute_result"
    }
   ],
   "source": [
    "df['yo'] = df[target].map({\n",
    "    0:'false', \n",
    "    1:'true'\n",
    "})\n",
    "df.head()"
   ]
  },
  {
   "cell_type": "markdown",
   "metadata": {},
   "source": [
    "## Train/Test Split"
   ]
  },
  {
   "cell_type": "markdown",
   "metadata": {},
   "source": [
    "### Sample"
   ]
  },
  {
   "cell_type": "code",
   "execution_count": 419,
   "metadata": {},
   "outputs": [
    {
     "data": {
      "text/html": [
       "<div>\n",
       "<style>\n",
       "    .dataframe thead tr:only-child th {\n",
       "        text-align: right;\n",
       "    }\n",
       "\n",
       "    .dataframe thead th {\n",
       "        text-align: left;\n",
       "    }\n",
       "\n",
       "    .dataframe tbody tr th {\n",
       "        vertical-align: top;\n",
       "    }\n",
       "</style>\n",
       "<table border=\"1\" class=\"dataframe\">\n",
       "  <thead>\n",
       "    <tr style=\"text-align: right;\">\n",
       "      <th></th>\n",
       "      <th>amount</th>\n",
       "      <th>country</th>\n",
       "      <th>device</th>\n",
       "      <th>label</th>\n",
       "      <th>name</th>\n",
       "      <th>time</th>\n",
       "      <th>user</th>\n",
       "      <th>id</th>\n",
       "      <th>new</th>\n",
       "    </tr>\n",
       "    <tr>\n",
       "      <th>id</th>\n",
       "      <th></th>\n",
       "      <th></th>\n",
       "      <th></th>\n",
       "      <th></th>\n",
       "      <th></th>\n",
       "      <th></th>\n",
       "      <th></th>\n",
       "      <th></th>\n",
       "      <th></th>\n",
       "    </tr>\n",
       "  </thead>\n",
       "  <tbody>\n",
       "    <tr>\n",
       "      <th>4908</th>\n",
       "      <td>1.0</td>\n",
       "      <td>us</td>\n",
       "      <td>A</td>\n",
       "      <td>0</td>\n",
       "      <td>D U</td>\n",
       "      <td>1.524069e+09</td>\n",
       "      <td>706</td>\n",
       "      <td>4908</td>\n",
       "      <td>1</td>\n",
       "    </tr>\n",
       "    <tr>\n",
       "      <th>6327</th>\n",
       "      <td>1.0</td>\n",
       "      <td>cn</td>\n",
       "      <td>C</td>\n",
       "      <td>0</td>\n",
       "      <td>H M</td>\n",
       "      <td>1.523752e+09</td>\n",
       "      <td>229</td>\n",
       "      <td>6327</td>\n",
       "      <td>1</td>\n",
       "    </tr>\n",
       "    <tr>\n",
       "      <th>8452</th>\n",
       "      <td>1.0</td>\n",
       "      <td>ca</td>\n",
       "      <td>D</td>\n",
       "      <td>0</td>\n",
       "      <td>T R</td>\n",
       "      <td>1.523704e+09</td>\n",
       "      <td>393</td>\n",
       "      <td>8452</td>\n",
       "      <td>1</td>\n",
       "    </tr>\n",
       "    <tr>\n",
       "      <th>831</th>\n",
       "      <td>1.0</td>\n",
       "      <td>us</td>\n",
       "      <td>D</td>\n",
       "      <td>0</td>\n",
       "      <td>L L</td>\n",
       "      <td>1.523919e+09</td>\n",
       "      <td>583</td>\n",
       "      <td>831</td>\n",
       "      <td>1</td>\n",
       "    </tr>\n",
       "    <tr>\n",
       "      <th>7944</th>\n",
       "      <td>1.0</td>\n",
       "      <td>us</td>\n",
       "      <td>C</td>\n",
       "      <td>0</td>\n",
       "      <td>M S</td>\n",
       "      <td>1.523931e+09</td>\n",
       "      <td>262</td>\n",
       "      <td>7944</td>\n",
       "      <td>1</td>\n",
       "    </tr>\n",
       "  </tbody>\n",
       "</table>\n",
       "</div>"
      ],
      "text/plain": [
       "      amount country device  label name          time  user    id  new\n",
       "id                                                                    \n",
       "4908     1.0      us      A      0  D U  1.524069e+09   706  4908    1\n",
       "6327     1.0      cn      C      0  H M  1.523752e+09   229  6327    1\n",
       "8452     1.0      ca      D      0  T R  1.523704e+09   393  8452    1\n",
       "831      1.0      us      D      0  L L  1.523919e+09   583   831    1\n",
       "7944     1.0      us      C      0  M S  1.523931e+09   262  7944    1"
      ]
     },
     "execution_count": 419,
     "metadata": {},
     "output_type": "execute_result"
    }
   ],
   "source": [
    "# Shuffle and sample 50%\n",
    "features = df.sample(frac=.5)\n",
    "df.head()"
   ]
  },
  {
   "cell_type": "markdown",
   "metadata": {},
   "source": [
    "### Convert to Numpy"
   ]
  },
  {
   "cell_type": "code",
   "execution_count": 428,
   "metadata": {},
   "outputs": [],
   "source": [
    "y = df[target].values\n",
    "X = df.drop(axis=1, labels=['id', target])   #drop id and clas label\n",
    "X = X.as_matrix()"
   ]
  },
  {
   "cell_type": "markdown",
   "metadata": {},
   "source": [
    "### Simple Train/Test Split"
   ]
  },
  {
   "cell_type": "code",
   "execution_count": 427,
   "metadata": {
    "collapsed": true
   },
   "outputs": [],
   "source": [
    "from sklearn.model_selection import train_test_split\n",
    "\n",
    "X_train, X_test, y_train, y_test = train_test_split(\n",
    "    X, y, test_size=0.20, random_state=42, shuffle=True # optional shuffle\n",
    ")"
   ]
  },
  {
   "cell_type": "markdown",
   "metadata": {},
   "source": [
    "### KFold Split"
   ]
  },
  {
   "cell_type": "code",
   "execution_count": null,
   "metadata": {
    "collapsed": true
   },
   "outputs": [],
   "source": []
  },
  {
   "cell_type": "markdown",
   "metadata": {},
   "source": [
    "### Time Series Split"
   ]
  },
  {
   "cell_type": "code",
   "execution_count": null,
   "metadata": {
    "collapsed": true
   },
   "outputs": [],
   "source": []
  },
  {
   "cell_type": "markdown",
   "metadata": {},
   "source": [
    "## Modeling"
   ]
  },
  {
   "cell_type": "code",
   "execution_count": null,
   "metadata": {
    "collapsed": true
   },
   "outputs": [],
   "source": []
  },
  {
   "cell_type": "markdown",
   "metadata": {},
   "source": [
    "## Metrics"
   ]
  },
  {
   "cell_type": "code",
   "execution_count": null,
   "metadata": {
    "collapsed": true
   },
   "outputs": [],
   "source": []
  }
 ],
 "metadata": {
  "kernelspec": {
   "display_name": "Python 3",
   "language": "python",
   "name": "python3"
  },
  "language_info": {
   "codemirror_mode": {
    "name": "ipython",
    "version": 3
   },
   "file_extension": ".py",
   "mimetype": "text/x-python",
   "name": "python",
   "nbconvert_exporter": "python",
   "pygments_lexer": "ipython3",
   "version": "3.6.3"
  },
  "toc": {
   "nav_menu": {},
   "number_sections": true,
   "sideBar": true,
   "skip_h1_title": false,
   "toc_cell": false,
   "toc_position": {},
   "toc_section_display": "block",
   "toc_window_display": false
  }
 },
 "nbformat": 4,
 "nbformat_minor": 2
}
